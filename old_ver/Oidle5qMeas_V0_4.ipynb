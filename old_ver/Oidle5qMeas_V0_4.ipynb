{
 "cells": [
  {
   "attachments": {},
   "cell_type": "markdown",
   "id": "178c7af7-4d91-40eb-8ea0-c67cdf9d08cf",
   "metadata": {},
   "source": [
    "5Q idle measurement\n",
    "=================\n",
    "\n",
    "### First, `run the top 5 cells to finish the setup!!!` Then you can start from where you haven't finished.\n",
    "\n",
    "* **[Accurate Cavity search](#Accurate-Cavity-search)** :\n",
    "Search the location of the cavity with $sweeping$ $NCO$ $frequency$ due to small frequency range (e.g. $6.0$ - $6.04$ GHz)\n",
    "\n",
    "\n",
    "* **[Power dependent cavity](#Power-dependent-cavity)** :\n",
    "Search the location of the dress state cavity with $sweeping$ $NCO$ $frequency$ due to small frequency range (e.g. $6.0$ - $6.004$ GHz)\n",
    "\n",
    "* **[Flux dependent cavity](#Flux-dependent-cavity)** :\n",
    "Find the maximum and minimum $frequency$ and tuning $flux$ to get the sweet spot and the range of the resonance frequency\n",
    "\n",
    "* **[Two-tone](#Two-tone)** :\n",
    "Search the $qubit$ $frequencies$\n",
    "\n",
    "* **[Qubit flux spectroscopy](#Qubit-flux-spectroscopy)** : \n",
    "$underdeveloping$\n",
    "\n",
    "* **[Power Rabi Oscillation](#power-rabi-oscillation)** :\n",
    "Find the best input $power$ into qubit\n",
    "\n",
    "* **[Time Rabi](#time-rabi)** :\n",
    "Check if the qubit frequency and power is fine\n",
    "\n",
    "* **[Ramsey](#ramsey)** :\n",
    "T2 measurement\n",
    "\n",
    "* **[ZZ interaction](#ZZ-interaction)** : \n",
    "$underdeveloping$\n",
    "\n",
    "* **[T1](#T1)** :\n",
    "T1 measurement\n",
    "\n",
    "#### To run this, you will need:\n",
    "* Qblox cluster\n",
    "* Device under test: a Superconducting Qubit\n",
    "* Hardware environment setup\n",
    "* Quantify Libraries and python enviroment\n",
    "* Installation and enabling of ipywidgets\n",
    "\n",
    "#### Some useful document\n",
    "* [Qblox docs](https://qblox-qblox-instruments.readthedocs-hosted.com/en/master/)\n",
    "* [Quantify core docs](https://quantify-os.org/docs/quantify-core/dev/index.html)\n",
    "* [Quantify Scheduler docs](https://quantify-os.org/docs/quantify-scheduler/dev/index.html)"
   ]
  },
  {
   "attachments": {},
   "cell_type": "markdown",
   "id": "1481c1fc",
   "metadata": {},
   "source": [
    "## ALL Todo list\n",
    "\n",
    "* Plot the signal sent into system before actual measurement\n",
    "* Fix the problem that the first measurement(for the measurement after Flux Dependent cavity) after reset the cluster is wierd\n",
    "* Qubit-flux spectroscopy measurement\n",
    "* Measurement after Flux Dependent Cavity can only measure one qubit in single run, try to do 5 qubits simultaneously\n",
    "* The measurement after Flux Dependent Cavity now is only for sweet spot, need to be set for different idle point later on.\n",
    "* Debug the situation that if you run the measurement which you don't have enough value for it, the program should print error.\n",
    "* Determine the \"manual parameters\" for all measurements\n",
    "\n",
    "#### Spacific Measurement Todo list\n",
    "* Acurate Cavity Search\n",
    "    * Measure with different flux value\n",
    "* Power dependent cavity\n",
    "    * Analysis for the measurement to get the bare state& dress state\n",
    "        * After that, 'ans' will not be manual parameter\n",
    "    * Measure with different flux value\n",
    "* Flux dependent cavity\n",
    "    * Store min, zeroflux, idle flux and frequency value\n",
    "* two-tone\n",
    "    * Larger the range of QCM-RF frequency\n",
    "* Qubit-flux spectroscopy\n",
    "    * Not able to do analysis, it's continuous flux now, have to change to pulse flux.\n",
    "* Power Rabi\n",
    "* Ramsey\n",
    "    * T2 histogram\n",
    "* Ramsey 2D plot\n",
    "    * -- all\n",
    "* T1\n",
    "    * Histogram"
   ]
  },
  {
   "cell_type": "markdown",
   "id": "94abe0f6-46c5-4a3f-b9a8-4dca72fe8c93",
   "metadata": {},
   "source": [
    "Cluster Setup\n",
    "-----"
   ]
  },
  {
   "cell_type": "code",
   "execution_count": 1,
   "id": "fed5de01-eece-4b7a-9015-8955d6d76648",
   "metadata": {},
   "outputs": [
    {
     "data": {
      "application/vnd.jupyter.widget-view+json": {
       "model_id": "8c1222a60f1b4b7f8154d310587a738a",
       "version_major": 2,
       "version_minor": 0
      },
      "text/plain": [
       "Dropdown(description='Select Device', options=(('Marketing-Cluster @192.168.1.170', '00015_2247_002'),), value…"
      ]
     },
     "metadata": {},
     "output_type": "display_data"
    }
   ],
   "source": [
    "from support import *\n",
    "from chip_data_store import *\n",
    "from numpy import arange, linspace, logspace\n",
    "\n",
    "meas_datadir = './Data/5Qidle'\n",
    "dh.set_datadir(meas_datadir)\n",
    "# Connect to Cluster\n",
    "warnings.simplefilter(\"ignore\")\n",
    "connect, ip = connect_clusters()"
   ]
  },
  {
   "cell_type": "code",
   "execution_count": 2,
   "id": "abb6dafa-1a31-4284-82d3-6c63e09d20e3",
   "metadata": {},
   "outputs": [
    {
     "name": "stdout",
     "output_type": "stream",
     "text": [
      "Marketing-Cluster @192.168.1.170 connected\n",
      "Status: OKAY, Flags: NONE, Slot flags: NONE\n"
     ]
    }
   ],
   "source": [
    "Instrument.close_all()              # Close all existing QCoDeS Instrument instances\n",
    "dev_id = connect.value\n",
    "cluster = Cluster(name = \"cluster0\", identifier = ip.get(dev_id))\n",
    "print(f\"{connect.label} connected\")\n",
    "\n",
    "# Reset the cluster\n",
    "cluster.reset()        \n",
    "print(cluster.get_system_state())\n",
    "\n",
    "# Hardware settings\n",
    "# Once change the hardware settings, it's needed to run Cluster Setup again.\n",
    "\n",
    "hardware_cfg = {\n",
    "    \"backend\": \"quantify_scheduler.backends.qblox_backend.hardware_compile\",\n",
    "    \"cluster0\": {\n",
    "        \"sequence_to_file\": False,  # Boolean flag which dumps waveforms and program dict to JSON file\n",
    "        \"ref\": \"internal\",  # Use shared clock reference of the cluster\n",
    "        \"instrument_type\": \"Cluster\",\n",
    "        # ============ DRIVE ============#\n",
    "        \"cluster0_module4\": {\n",
    "            \"instrument_type\": \"QCM_RF\",\n",
    "            \"complex_output_0\": {\n",
    "                \"output_att\": 0,\n",
    "                \"dc_mixer_offset_I\": 0.0,\n",
    "                \"dc_mixer_offset_Q\": 0.0,\n",
    "                \"portclock_configs\": [\n",
    "                    {\n",
    "                        \"port\": \"q1:mw\",\n",
    "                        \"clock\": \"q1.01\",\n",
    "                        \"interm_freq\": 80e6,\n",
    "                        \"mixer_amp_ratio\": 1.0,\n",
    "                        \"mixer_phase_error_deg\": 0.0,\n",
    "                    }\n",
    "                ],\n",
    "            },\n",
    "            \"complex_output_1\": {\n",
    "                \"output_att\": 0,\n",
    "                \"dc_mixer_offset_I\": 0.0,\n",
    "                \"dc_mixer_offset_Q\": 0.0,\n",
    "                \"portclock_configs\": [\n",
    "                    {\n",
    "                        \"port\": \"q2:mw\",\n",
    "                        \"clock\": \"q2.01\",\n",
    "                        \"interm_freq\": 80e6,\n",
    "                        \"mixer_amp_ratio\": 1.0,\n",
    "                        \"mixer_phase_error_deg\": 0.0,\n",
    "                    }\n",
    "                ],\n",
    "            },\n",
    "        },\n",
    "        \"cluster0_module6\": {\n",
    "            \"instrument_type\": \"QCM_RF\",\n",
    "            \"complex_output_0\": {\n",
    "                \"output_att\": 0,\n",
    "                \"dc_mixer_offset_I\": 0.0,\n",
    "                \"dc_mixer_offset_Q\": 0.0,\n",
    "                \"portclock_configs\": [\n",
    "                    {\n",
    "                        \"port\": \"q3:mw\",\n",
    "                        \"clock\": \"q3.01\",\n",
    "                        \"interm_freq\": 80e6,\n",
    "                        \"mixer_amp_ratio\": 1.0,\n",
    "                        \"mixer_phase_error_deg\": 0.0,\n",
    "                    }\n",
    "                ],\n",
    "            },\n",
    "            \"complex_output_1\": {\n",
    "                \"output_att\": 0,\n",
    "                \"dc_mixer_offset_I\": 0.0,\n",
    "                \"dc_mixer_offset_Q\": 0.0,\n",
    "                \"portclock_configs\": [\n",
    "                    {\n",
    "                        \"port\": \"q4:mw\",\n",
    "                        \"clock\": \"q4.01\",\n",
    "                        \"interm_freq\": 80e6,\n",
    "                        \"mixer_amp_ratio\": 1.0,\n",
    "                        \"mixer_phase_error_deg\": 0.0,\n",
    "                    }\n",
    "                ],\n",
    "            },\n",
    "        },\n",
    "        \"cluster0_module12\": {\n",
    "            \"instrument_type\": \"QCM_RF\",\n",
    "            \"complex_output_0\": {\n",
    "                \"output_att\": 0,\n",
    "                \"dc_mixer_offset_I\": 0.0,\n",
    "                \"dc_mixer_offset_Q\": 0.0,\n",
    "                \"portclock_configs\": [\n",
    "                    {\n",
    "                        \"port\": \"q5:mw\",\n",
    "                        \"clock\": \"q5.01\",\n",
    "                        \"interm_freq\": 80e6,\n",
    "                        \"mixer_amp_ratio\": 1.0,\n",
    "                        \"mixer_phase_error_deg\": 0.0,\n",
    "                    }\n",
    "                ],\n",
    "            },\n",
    "        },\n",
    "        # ============ FLUX ============#\n",
    "        \"cluster0_module2\": {\n",
    "            \"instrument_type\": \"QCM\",\n",
    "            \"real_output_0\": {\"portclock_configs\": [{\"port\": \"q1:fl\", \"clock\": \"cl0.baseband\"}]},\n",
    "            \"real_output_1\": {\"portclock_configs\": [{\"port\": \"q2:fl\", \"clock\": \"cl0.baseband\"}]},\n",
    "            \"real_output_2\": {\"portclock_configs\": [{\"port\": \"q3:fl\", \"clock\": \"cl0.baseband\"}]},\n",
    "            \"real_output_3\": {\"portclock_configs\": [{\"port\": \"q4:fl\", \"clock\": \"cl0.baseband\"}]},\n",
    "        },\n",
    "        \"cluster0_module10\": {\n",
    "            \"instrument_type\": \"QCM\",\n",
    "            \"real_output_0\": {\"portclock_configs\": [{\"port\": \"q5:fl\", \"clock\": \"cl0.baseband\"}]},\n",
    "        },\n",
    "        # ============ READOUT ============#\n",
    "        \"cluster0_module8\": {\n",
    "            \"instrument_type\": \"QRM_RF\",\n",
    "            \"complex_output_0\": {\n",
    "                \"output_att\": 0,\n",
    "                \"input_att\": 0,\n",
    "                \"lo_freq\": 5.95e9,       # *** Should be set as a parameter later on\n",
    "                \"dc_mixer_offset_I\": 0.0,\n",
    "                \"dc_mixer_offset_Q\": 0.0,\n",
    "                \"portclock_configs\": [\n",
    "                    {\n",
    "                        \"port\": \"q1:res\",\n",
    "                        \"clock\": \"q1.ro\",\n",
    "                        \"mixer_amp_ratio\": 1.0,\n",
    "                        \"mixer_phase_error_deg\": 0.0,\n",
    "                    },\n",
    "                    {\n",
    "                        \"port\": \"q2:res\",\n",
    "                        \"clock\": \"q2.ro\",\n",
    "                        \"mixer_amp_ratio\": 1.0,\n",
    "                        \"mixer_phase_error_deg\": 0.0,\n",
    "                    },\n",
    "                    {\n",
    "                        \"port\": \"q3:res\",\n",
    "                        \"clock\": \"q3.ro\",\n",
    "                        \"mixer_amp_ratio\": 1.0,\n",
    "                        \"mixer_phase_error_deg\": 0.0,\n",
    "                    },\n",
    "                    {\n",
    "                        \"port\": \"q4:res\",\n",
    "                        \"clock\": \"q4.ro\",\n",
    "                        \"mixer_amp_ratio\": 1.0,\n",
    "                        \"mixer_phase_error_deg\": 0.0,\n",
    "                    },\n",
    "                    {\n",
    "                        \"port\": \"q5:res\",\n",
    "                        \"clock\": \"q5.ro\",\n",
    "                        \"mixer_amp_ratio\": 1.0,\n",
    "                        \"mixer_phase_error_deg\": 0.0,\n",
    "                    },\n",
    "                ],\n",
    "            },\n",
    "        },\n",
    "    },\n",
    "}\n",
    "\n",
    "# quantum device, measctrler, coordinator set up \n",
    "quantum_device = create_quantum_device(hardware_cfg, num_qubits=5)\n",
    "meas_ctrl, instrument_coordinator = configure_measurement_control_loop(quantum_device, cluster)\n",
    "\n",
    "# Flux bias setting\n",
    "flux_settable_map: callable = {\n",
    "    quantum_device._device_elements[0].name:cluster.module2.out0_offset,\n",
    "    quantum_device._device_elements[1].name:cluster.module2.out1_offset,\n",
    "    quantum_device._device_elements[2].name:cluster.module2.out2_offset,\n",
    "    quantum_device._device_elements[3].name:cluster.module2.out3_offset,\n",
    "    quantum_device._device_elements[4].name:cluster.module10.out0_offset\n",
    "}\n",
    "# default the offset in circuit\n",
    "for i in flux_settable_map:\n",
    "    flux_settable_map[i](0.00)\n",
    "\n",
    "\n",
    "# Activate NCO delay compensation\n",
    "for i in range(6):\n",
    "    getattr(cluster.module8, f\"sequencer{i}\").nco_prop_delay_comp_en(True)\n",
    "    getattr(cluster.module8, f\"sequencer{i}\").nco_prop_delay_comp(50)\n"
   ]
  },
  {
   "cell_type": "code",
   "execution_count": 3,
   "id": "80bd415b",
   "metadata": {},
   "outputs": [],
   "source": [
    "# Storing qubit information\n",
    "\n",
    "# ============= manually set Parameters =================\n",
    "chip_name = \"5Qtest4\"\n",
    "chip_type = \"5Q\"\n",
    "# =======================================================\n",
    "chip_file = chip_name+\".json\"\n",
    "chip_info = init_chip_file(chip_type, chip_name, chip_file)\n"
   ]
  },
  {
   "cell_type": "code",
   "execution_count": 4,
   "id": "7fa3bd8c",
   "metadata": {},
   "outputs": [
    {
     "name": "stdout",
     "output_type": "stream",
     "text": [
      "updated!\n"
     ]
    }
   ],
   "source": [
    "# Attenuation setting. We don't change it once we set it.\n",
    "if chip_info[\"basic_information\"][\"ro_att\"] == -1 or chip_info[\"basic_information\"][\"xy_att\"] == -1:\n",
    "    ro_out_att = 20\n",
    "    xy_out_att = 10\n",
    "else:\n",
    "    ro_out_att = chip_info[\"basic_information\"][\"ro_att\"]\n",
    "    xy_out_att = chip_info[\"basic_information\"][\"xy_att\"]\n",
    "\n",
    "# atte. setting\n",
    "set_atte_for(quantum_device,ro_out_att,'ro',list(flux_settable_map.keys()))\n",
    "set_atte_for(quantum_device,xy_out_att,'xy',list(flux_settable_map.keys()))\n",
    "\n",
    "# Storing data\n",
    "chip_info[\"basic_information\"][\"ro_att\"] = ro_out_att\n",
    "chip_info[\"basic_information\"][\"xy_att\"] = xy_out_att\n",
    "update_chip_file(chip_file, chip_info)"
   ]
  },
  {
   "cell_type": "code",
   "execution_count": 5,
   "id": "4163541a",
   "metadata": {},
   "outputs": [],
   "source": [
    "# Some designed value \n",
    "estimate_f_resonator = dict(\n",
    "    q1 = 5.72135 * 1e9,\n",
    "    q2 = 6.0095 * 1e9,\n",
    "    q3 = 5.83875 * 1e9,\n",
    "    q4 = 6.1073 * 1e9,\n",
    "    q5 = 5.9139 * 1e9,\n",
    ")\n",
    "estimate_f_qubits = dict(\n",
    "    q1 = 4.116883353122914 * 1e9,\n",
    "    q2 = 4.232816338702908 * 1e9,\n",
    "    q3 = 3.8418045414828643 * 1e9,\n",
    "    q4 = 4.022 * 1e9,\n",
    "    q5 = 2.5738611635902258 * 1e9,\n",
    ")"
   ]
  },
  {
   "attachments": {},
   "cell_type": "markdown",
   "id": "d4271241",
   "metadata": {},
   "source": [
    "### `Definition that is underconstruction`\n",
    "\n",
    "Put into support.py after finished"
   ]
  },
  {
   "cell_type": "code",
   "execution_count": 38,
   "id": "784f67db",
   "metadata": {},
   "outputs": [],
   "source": [
    "# def plot pluse preview \n",
    "# Put into support.py if finished\n",
    "import plotly.io as pio\n",
    "\n",
    "def pulse_preview(quantum_device:QuantumDevice,sche_func:Schedule, sche_kwargs:dict, **kwargs):\n",
    "    \n",
    "    pio.renderers.default='browser'\n",
    "    device_compiler = SerialCompiler(\"Device compiler\", quantum_device)\n",
    "    comp_sched = device_compiler.compile(\n",
    "        sche_func(**sche_kwargs)\n",
    "    )\n",
    "    sche_func(**sche_kwargs).plot_circuit_diagram()\n",
    "    comp_sched.plot_pulse_diagram(plot_backend=\"plotly\",**kwargs).show()"
   ]
  },
  {
   "attachments": {},
   "cell_type": "markdown",
   "id": "8c5693a7-72ee-4cc7-aebb-18ab0c217c0e",
   "metadata": {},
   "source": [
    "Accurate Cavity search\n",
    "-------------\n",
    "\n",
    "After fixing the approximate resonator frequencies, \n",
    "sweeping NCO frequency to get the location frequency of all cavities, \n",
    "the frequency you get will be the accurate $bare$ $state$ $frequency$.\n",
    "\n",
    "Then, also check the approximate $dress$ $state$ $frequency$ by changing **is_bare** value.\n",
    "\n",
    "#### Only for **zeroflux cavity** measurement now!"
   ]
  },
  {
   "cell_type": "code",
   "execution_count": 6,
   "id": "d45b8f68",
   "metadata": {},
   "outputs": [],
   "source": [
    "# ============= manually set Parameters =================\n",
    "is_bare = False\n",
    "execute=False\n",
    "qubit_want_to_meas = [1,0,1,0,0]\n",
    "# ======================================================="
   ]
  },
  {
   "cell_type": "code",
   "execution_count": 7,
   "id": "a7a46f79-5b7b-4db8-9729-06b97beb23bf",
   "metadata": {},
   "outputs": [
    {
     "data": {
      "image/png": "[encoded data removed]",
      "text/plain": [
       "<Figure size 1000x100 with 1 Axes>"
      ]
     },
     "metadata": {
      "needs_background": "light"
     },
     "output_type": "display_data"
    },
    {
     "data": {
      "image/png": "[encoded data removed]",
      "text/plain": [
       "<Figure size 1000x100 with 1 Axes>"
      ]
     },
     "metadata": {
      "needs_background": "light"
     },
     "output_type": "display_data"
    }
   ],
   "source": [
    "def CavitySearch(quantum_device:QuantumDevice,qubit_want_to_meas:list,estimation:dict,ro_span_Hz:int,n_avg:int=300,fitpoint:int=200,run:bool=True,bare:bool=True)->(dict,dict):\n",
    "    \n",
    "    sche_func = heterodyne_spec_sched_nco\n",
    "    analysis_result = {}\n",
    "    ro_elements = qubits_meas(quantum_device, qubit_want_to_meas)\n",
    "    \n",
    "    if bare == True:\n",
    "        pulse_amp_val = 1\n",
    "    else:\n",
    "        pulse_amp_val = 0.05 # Or after powerDep's given values\n",
    "    \n",
    "    for q in ro_elements:\n",
    "        rof_center = estimation[q]\n",
    "        qubit = quantum_device.get_element(q)\n",
    "        rof_samples = linspace(rof_center-ro_span_Hz,rof_center+ro_span_Hz,fitpoint)\n",
    "\n",
    "        # declare variables\n",
    "        freq = ManualParameter(name=\"freq\", unit=\"Hz\", label=\"Frequency\")\n",
    "        freq.batched = True\n",
    "        freq.batch_size = 100\n",
    "\n",
    "        # requisition\n",
    "        spec_sched_kwargs = dict(    # *** Try to draw the prospective wave as a plot for a great check of the outputting pulse. And turn them into parameters\n",
    "            pulse_amp=pulse_amp_val,           # *** Check the unit of amplitude, only scale or volt # Can be set as a parameter\n",
    "            pulse_duration=2e-6,     # *** Can be set as a parameter\n",
    "            frequencies=freq,\n",
    "            acquisition_delay=80e-9,# *** Can be set as a parameter\n",
    "            integration_time=1.5e-6,   # *** Can be set as a parameter\n",
    "            port=qubit.ports.readout(),\n",
    "            clock=qubit.name + \".ro\",\n",
    "            init_duration=10e-6,     # *** Can be set as a parameter\n",
    "        )\n",
    "    \n",
    "        # show_args(spec_sched_kwargs, title=\"spec_sched_kwargs\")  # *** Try to insert this into interfaces\n",
    "\n",
    "        # send the requisition to MeasurementControl-er\n",
    "        \n",
    "        gettable = ScheduleGettable(\n",
    "            quantum_device,\n",
    "            schedule_function=sche_func,  # *** Def: https://quantify-os.org/docs/quantify-scheduler/dev/autoapi/quantify_scheduler/schedules/index.html\n",
    "            schedule_kwargs=spec_sched_kwargs,\n",
    "            real_imag=False,\n",
    "            batched=True\n",
    "        )\n",
    "        quantum_device.cfg_sched_repetitions(n_avg)\n",
    "        meas_ctrl.gettables(gettable)\n",
    "        meas_ctrl.settables(freq)\n",
    "        meas_ctrl.setpoints(rof_samples)\n",
    "\n",
    "        if run:\n",
    "            # MeasurementControl-er start measurement by the requisition\n",
    "         \n",
    "            rs_ds = meas_ctrl.run(\"resonator spectroscopy\")\n",
    "            rs_ds\n",
    "\n",
    "            # Analysis\n",
    "            analysis_result[q] = ResonatorSpectroscopyAnalysis(tuid=rs_ds.attrs[\"tuid\"], dataset=rs_ds).run()\n",
    "           \n",
    "            # feedback\n",
    "            # print(f\" {q} Cavity:\")\n",
    "            # qubit.clock_freqs.readout(analysis_result[q].quantities_of_interest['fr'].nominal_value)\n",
    "        else:\n",
    "            \n",
    "            spec_sched_kwargs[\"frequencies\"] = np.array([np.max(rof_samples)]) # type is array\n",
    "            pulse_preview(quantum_device,sche_func,spec_sched_kwargs)\n",
    "            \n",
    "            pass\n",
    "    return analysis_result, spec_sched_kwargs\n",
    "\n",
    "\n",
    "CS_results, spec = CavitySearch(quantum_device=quantum_device,qubit_want_to_meas=qubit_want_to_meas,estimation=estimate_f_resonator,ro_span_Hz=5e6,run=execute,bare=is_bare)\n",
    "if execute:\n",
    "    CSresults_alignPlot(quantum_device,CS_results)\n",
    "# # see fittings\n",
    "# for q in ro_element:\n",
    "#     CS_results[q].display_figs_mpl()"
   ]
  },
  {
   "cell_type": "code",
   "execution_count": 9,
   "id": "75dd65e7",
   "metadata": {},
   "outputs": [
    {
     "name": "stdout",
     "output_type": "stream",
     "text": [
      "q1.measure\n",
      "====================================\n",
      "pulse_type                = SquarePulse\n",
      "pulse_amp                 = 0.05\n",
      "pulse_duration            = 2e-06\n",
      "acq_channel               = 1\n",
      "acq_delay                 = 8e-08\n",
      "integration_time          = 1.5e-06\n",
      "reset_clock_phase         = True\n",
      "acq_weights_a             = None\n",
      "acq_weights_b             = None\n",
      "acq_weights_sampling_rate = None\n",
      "acq_weight_type           = SSB\n",
      "acq_rotation              = 0\n",
      "acq_threshold             = 0\n",
      "\n",
      "q1.reset\n",
      "==============\n",
      "duration = 0.0001\n",
      "\n",
      "q1.clock_freqs\n",
      "========================\n",
      "readout = 5719819101.378496\n",
      "dress state\n",
      "q2.measure\n",
      "====================================\n",
      "pulse_type                = SquarePulse\n",
      "pulse_amp                 = 0.05\n",
      "pulse_duration            = 2e-06\n",
      "acq_channel               = 2\n",
      "acq_delay                 = 8e-08\n",
      "integration_time          = 1.5e-06\n",
      "reset_clock_phase         = True\n",
      "acq_weights_a             = None\n",
      "acq_weights_b             = None\n",
      "acq_weights_sampling_rate = None\n",
      "acq_weight_type           = SSB\n",
      "acq_rotation              = 0\n",
      "acq_threshold             = 0\n",
      "\n",
      "q2.reset\n",
      "==============\n",
      "duration = 0.0001\n",
      "\n",
      "q2.clock_freqs\n",
      "========================\n",
      "readout = 6008026079.534454\n",
      "dress state\n",
      "q3.measure\n",
      "====================================\n",
      "pulse_type                = SquarePulse\n",
      "pulse_amp                 = 0.05\n",
      "pulse_duration            = 2e-06\n",
      "acq_channel               = 3\n",
      "acq_delay                 = 8e-08\n",
      "integration_time          = 1.5e-06\n",
      "reset_clock_phase         = True\n",
      "acq_weights_a             = None\n",
      "acq_weights_b             = None\n",
      "acq_weights_sampling_rate = None\n",
      "acq_weight_type           = SSB\n",
      "acq_rotation              = 0\n",
      "acq_threshold             = 0\n",
      "\n",
      "q3.reset\n",
      "==============\n",
      "duration = 0.0001\n",
      "\n",
      "q3.clock_freqs\n",
      "========================\n",
      "readout = 5837689387.877706\n",
      "dress state\n",
      "q4.measure\n",
      "====================================\n",
      "pulse_type                = SquarePulse\n",
      "pulse_amp                 = 0.05\n",
      "pulse_duration            = 2e-06\n",
      "acq_channel               = 4\n",
      "acq_delay                 = 8e-08\n",
      "integration_time          = 1.5e-06\n",
      "reset_clock_phase         = True\n",
      "acq_weights_a             = None\n",
      "acq_weights_b             = None\n",
      "acq_weights_sampling_rate = None\n",
      "acq_weight_type           = SSB\n",
      "acq_rotation              = 0\n",
      "acq_threshold             = 0\n",
      "\n",
      "q4.reset\n",
      "==============\n",
      "duration = 0.0001\n",
      "\n",
      "q4.clock_freqs\n",
      "========================\n",
      "readout = 6106770578.373317\n",
      "dress state\n",
      "q5.measure\n",
      "====================================\n",
      "pulse_type                = SquarePulse\n",
      "pulse_amp                 = 0.05\n",
      "pulse_duration            = 2e-06\n",
      "acq_channel               = 5\n",
      "acq_delay                 = 8e-08\n",
      "integration_time          = 1.5e-06\n",
      "reset_clock_phase         = True\n",
      "acq_weights_a             = None\n",
      "acq_weights_b             = None\n",
      "acq_weights_sampling_rate = None\n",
      "acq_weight_type           = SSB\n",
      "acq_rotation              = 0\n",
      "acq_threshold             = 0\n",
      "\n",
      "q5.reset\n",
      "==============\n",
      "duration = 0.0001\n",
      "\n",
      "q5.clock_freqs\n",
      "========================\n",
      "readout = 5913485071.813452\n",
      "dress state\n",
      "updated!\n"
     ]
    }
   ],
   "source": [
    "# If you agree with the result, then run this cell\n",
    "# fill up the spec for qubit like reset-time, ROL, ROW, ROF...\n",
    "\n",
    "executor = True\n",
    "if executor:\n",
    "    for q in CS_results:\n",
    "        qubit = quantum_device.get_element(q)\n",
    "        qubit.reset.duration(100e-6)\n",
    "        qubit.measure.acq_delay(spec[\"acquisition_delay\"])\n",
    "        qubit.measure.pulse_amp(spec[\"pulse_amp\"])\n",
    "        qubit.measure.pulse_duration(spec[\"pulse_duration\"])\n",
    "        qubit.measure.integration_time(spec[\"integration_time\"])\n",
    "        qubit.clock_freqs.readout(CS_results[q].quantities_of_interest[\"fr\"].nominal_value)\n",
    "        show_readout_args(qubit)\n",
    "        \n",
    "        #Storing data\n",
    "        chip_info[\"1Q_information\"][q][\"oper\"][\"readout\"][\"dura_time\"] = spec[\"pulse_duration\"]\n",
    "        chip_info[\"1Q_information\"][q][\"oper\"][\"readout\"][\"acq_delay\"] = spec[\"acquisition_delay\"]\n",
    "        chip_info[\"1Q_information\"][q][\"oper\"][\"readout\"][\"integ_time\"] = spec[\"integration_time\"]\n",
    "        \n",
    "        chip_info[\"1Q_information\"][q][\"init\"][\"wait\"][\"time\"] = qubit.reset.duration()\n",
    "        \n",
    "        if is_bare == True:\n",
    "            print(\"bare state\")\n",
    "            chip_info[\"1Q_information\"][q][\"char\"][\"bare\"][\"bare_freq\"] = CS_results[q].quantities_of_interest[\"fr\"].nominal_value\n",
    "            chip_info[\"1Q_information\"][q][\"char\"][\"bare\"][\"Qi\"] = CS_results[q].quantities_of_interest[\"Qi\"].nominal_value\n",
    "            chip_info[\"1Q_information\"][q][\"char\"][\"bare\"][\"Qc\"] = CS_results[q].quantities_of_interest[\"Qc\"].nominal_value\n",
    "            \n",
    "        else:\n",
    "            print(\"dress state\")\n",
    "            chip_info[\"1Q_information\"][q][\"char\"][\"zeroflux\"][\"res\"][\"dress_freq\"] = CS_results[q].quantities_of_interest[\"fr\"].nominal_value\n",
    "            chip_info[\"1Q_information\"][q][\"char\"][\"zeroflux\"][\"res\"][\"Qi\"] = CS_results[q].quantities_of_interest[\"Qi\"].nominal_value\n",
    "            chip_info[\"1Q_information\"][q][\"char\"][\"zeroflux\"][\"res\"][\"Qc\"] = CS_results[q].quantities_of_interest[\"Qc\"].nominal_value\n",
    "            \n",
    "            chip_info[\"1Q_information\"][q][\"oper\"][\"readout\"][\"amp\"] = spec[\"pulse_amp\"]\n",
    "            chip_info[\"1Q_information\"][q][\"oper\"][\"readout\"][\"flux\"] = flux_settable_map[q]()\n",
    "            chip_info[\"1Q_information\"][q][\"oper\"][\"readout\"][\"freq\"] = CS_results[q].quantities_of_interest[\"fr\"].nominal_value\n",
    "            \n",
    "    update_chip_file(chip_file, chip_info)\n",
    "    \n",
    "    executor = False"
   ]
  },
  {
   "attachments": {},
   "cell_type": "markdown",
   "id": "eb93d446-f5d2-421b-ad2c-7ba2fd87f159",
   "metadata": {},
   "source": [
    "Power dependent cavity\n",
    "------------------------\n",
    "* Once you get the estimated dress frequencies, then you can start to do this \n",
    "#### Sweeping NCO frequency to get the location dress state frequency of each cavity found in cavity search, with 2D plot we can get the $intensity$ $of$ $the$ $signal$ and $dress$ $state$ $frequency$"
   ]
  },
  {
   "cell_type": "markdown",
   "id": "7030a0b7-bf5c-4805-a8d4-d59c64b139b0",
   "metadata": {},
   "source": [
    "The Q1ASM sequencer program only supports integer values. However, the NCO has a frequency resolution of 0.25 Hz. As such, the frequency values in the sequencer program must be given as integer multiples of $1/4$ Hz."
   ]
  },
  {
   "cell_type": "code",
   "execution_count": 41,
   "id": "83ed3cac",
   "metadata": {},
   "outputs": [],
   "source": [
    "# If you finished previous program, want to start from here, then run this cell to acquire chip information\n",
    "\n",
    "for i in range(1, 6):\n",
    "    qubit = quantum_device.get_element(f\"q{i}\")\n",
    "    qubit.clock_freqs.readout(chip_info[\"1Q_information\"][f\"q{i}\"][\"char\"][\"zeroflux\"][\"res\"][\"dress_freq\"])\n",
    "    \n",
    "    qubit.measure.pulse_duration(chip_info[\"1Q_information\"][f\"q{i}\"][\"oper\"][\"readout\"][\"dura_time\"])\n",
    "    qubit.measure.acq_delay(chip_info[\"1Q_information\"][f\"q{i}\"][\"oper\"][\"readout\"][\"acq_delay\"])\n",
    "    qubit.measure.integration_time(chip_info[\"1Q_information\"][f\"q{i}\"][\"oper\"][\"readout\"][\"integ_time\"])"
   ]
  },
  {
   "cell_type": "code",
   "execution_count": 42,
   "id": "bdf66731-5d13-4422-8808-c429424b515f",
   "metadata": {},
   "outputs": [
    {
     "name": "stdout",
     "output_type": "stream",
     "text": [
      "spec_sched_kwargs\n",
      "=============================\n",
      "pulse_amp         = ro_pulse_amp\n",
      "pulse_duration    = 2e-06\n",
      "frequencies       = freq\n",
      "acquisition_delay = 8e-08\n",
      "integration_time  = 1.5e-06\n",
      "init_duration     = 1e-05\n",
      "port              = q1:res\n",
      "clock             = q1.ro\n",
      "spec_sched_kwargs\n",
      "=============================\n",
      "pulse_amp         = ro_pulse_amp\n",
      "pulse_duration    = 2e-06\n",
      "frequencies       = freq\n",
      "acquisition_delay = 8e-08\n",
      "integration_time  = 1.5e-06\n",
      "init_duration     = 1e-05\n",
      "port              = q3:res\n",
      "clock             = q3.ro\n"
     ]
    },
    {
     "data": {
      "image/png": "[encoded data removed]",
      "text/plain": [
       "<Figure size 1000x100 with 1 Axes>"
      ]
     },
     "metadata": {
      "needs_background": "light"
     },
     "output_type": "display_data"
    },
    {
     "data": {
      "image/png": "[encoded data removed]",
      "text/plain": [
       "<Figure size 1000x100 with 1 Axes>"
      ]
     },
     "metadata": {
      "needs_background": "light"
     },
     "output_type": "display_data"
    }
   ],
   "source": [
    "# Main cell\n",
    "\n",
    "# ============= manually set Parameters =================\n",
    "max_rol = 0.7\n",
    "rol_point = 30\n",
    "rof_point = 30\n",
    "\n",
    "execute = False\n",
    "qubit_want_to_meas = [1,0,1,0,0]\n",
    "\n",
    "# =======================================================\n",
    "\n",
    "def PowerDep(quantum_device:QuantumDevice,qubit_want_to_meas:list,ro_span_Hz:int=2e6,n_avg:int=100,rol_point:int=20,rof_point:int=20,max_rol:float=0.7,run:bool=True)->dict:\n",
    "    \n",
    "    sche_func = heterodyne_spec_sched_nco\n",
    "    analysis_result = {}\n",
    "    ro_elements = qubits_meas(quantum_device, qubit_want_to_meas)\n",
    "    \n",
    "    for q in ro_elements:\n",
    "        qubit = quantum_device.get_element(q)\n",
    "        \n",
    "        # Check if chip_info is download\n",
    "        if  qubit.clock_freqs.readout() == 0 or qubit.measure.pulse_duration() == 0 or qubit.measure.acq_delay() == 0 or qubit.measure.integration_time() == 0:\n",
    "            raise ValueError(\"Missed some nessesary value!\")\n",
    "        else:\n",
    "            pass\n",
    "        \n",
    "        rof_center = qubit.clock_freqs.readout()  # Range ~4MHz\n",
    "        rof_samples = linspace(rof_center-ro_span_Hz,rof_center+ro_span_Hz,rof_point)\n",
    "        rol_samples = linspace(0.01,max_rol,rol_point)\n",
    "\n",
    "        # declare variables\n",
    "        freq = ManualParameter(name=\"freq\", unit=\"Hz\", label=\"Frequency\")\n",
    "        freq.batched = True\n",
    "\n",
    "        ro_pulse_amp = ManualParameter(name=\"ro_pulse_amp\", unit=\"\", label=\"Readout pulse amplitude\")\n",
    "        ro_pulse_amp.batched = False\n",
    "        # Two axis need two ManualParameters\n",
    "\n",
    "        # Requisition\n",
    "        spec_sched_kwargs = dict(\n",
    "            pulse_amp=ro_pulse_amp,\n",
    "            pulse_duration=qubit.measure.pulse_duration(),\n",
    "            frequencies=freq,\n",
    "            acquisition_delay=qubit.measure.acq_delay(),\n",
    "            integration_time=qubit.measure.integration_time(),\n",
    "            init_duration=10e-6, # only cavity shorter is enough\n",
    "            port=qubit.ports.readout(),\n",
    "            clock=qubit.name + \".ro\",\n",
    "        )\n",
    "        \n",
    "        show_args(spec_sched_kwargs, title=\"spec_sched_kwargs\")\n",
    "\n",
    "        # send the requisition to MeasurementControl-er\n",
    "        if run:\n",
    "            gettable = ScheduleGettable(\n",
    "                quantum_device,\n",
    "                schedule_function=sche_func,\n",
    "                schedule_kwargs=spec_sched_kwargs,\n",
    "                real_imag=False,\n",
    "                batched=True,\n",
    "            )\n",
    "            quantum_device.cfg_sched_repetitions(n_avg)\n",
    "            meas_ctrl.gettables(gettable)\n",
    "            meas_ctrl.settables([freq, ro_pulse_amp])\n",
    "            meas_ctrl.setpoints_grid((rof_samples, rol_samples))\n",
    "\n",
    "            # MeasurementControl-er start measurement by the requisition\n",
    "            punchout_ds = meas_ctrl.run(\"resonator punchout\")\n",
    "            punchout_ds\n",
    "\n",
    "            # analysis\n",
    "            analysis_result[q] = Basic2DAnalysis(tuid=punchout_ds.attrs[\"tuid\"], dataset=punchout_ds).run()\n",
    "        else:\n",
    "            spec_sched_kwargs['pulse_amp'] = np.max(rol_samples) # type is float or int\n",
    "            spec_sched_kwargs['frequencies'] = np.array([np.max(rof_samples)])\n",
    "            pulse_preview(quantum_device,sche_func,spec_sched_kwargs)\n",
    "\n",
    "        # TODO: feedback \n",
    "    return analysis_result\n",
    "\n",
    "PD_results = PowerDep(quantum_device,qubit_want_to_meas,rol_point=rol_point,rof_point=rol_point,max_rol=max_rol,run=execute)\n",
    "if execute:\n",
    "    PDresults_alignPlot(quantum_device,PD_results)\n",
    "# for q in PD_results:\n",
    "#     print(f\"{q}:\")\n",
    "#     PD_results[q].display_figs_mpl()\n",
    "\n"
   ]
  },
  {
   "cell_type": "code",
   "execution_count": 12,
   "id": "8d8dec6d",
   "metadata": {},
   "outputs": [
    {
     "name": "stdout",
     "output_type": "stream",
     "text": [
      "q1.measure\n",
      "====================================\n",
      "pulse_type                = SquarePulse\n",
      "pulse_amp                 = 0.03\n",
      "pulse_duration            = 2e-06\n",
      "acq_channel               = 1\n",
      "acq_delay                 = 8e-08\n",
      "integration_time          = 1.5e-06\n",
      "reset_clock_phase         = True\n",
      "acq_weights_a             = None\n",
      "acq_weights_b             = None\n",
      "acq_weights_sampling_rate = None\n",
      "acq_weight_type           = SSB\n",
      "acq_rotation              = 0\n",
      "acq_threshold             = 0\n",
      "\n",
      "q1.reset\n",
      "==============\n",
      "duration = 0.0001\n",
      "\n",
      "q1.clock_freqs\n",
      "===================\n",
      "readout = 5719800000.0\n",
      "q2.measure\n",
      "====================================\n",
      "pulse_type                = SquarePulse\n",
      "pulse_amp                 = 0.1\n",
      "pulse_duration            = 2e-06\n",
      "acq_channel               = 2\n",
      "acq_delay                 = 8e-08\n",
      "integration_time          = 1.5e-06\n",
      "reset_clock_phase         = True\n",
      "acq_weights_a             = None\n",
      "acq_weights_b             = None\n",
      "acq_weights_sampling_rate = None\n",
      "acq_weight_type           = SSB\n",
      "acq_rotation              = 0\n",
      "acq_threshold             = 0\n",
      "\n",
      "q2.reset\n",
      "==============\n",
      "duration = 0.0001\n",
      "\n",
      "q2.clock_freqs\n",
      "===================\n",
      "readout = 6008200000.0\n",
      "q3.measure\n",
      "====================================\n",
      "pulse_type                = SquarePulse\n",
      "pulse_amp                 = 0.07\n",
      "pulse_duration            = 2e-06\n",
      "acq_channel               = 3\n",
      "acq_delay                 = 8e-08\n",
      "integration_time          = 1.5e-06\n",
      "reset_clock_phase         = True\n",
      "acq_weights_a             = None\n",
      "acq_weights_b             = None\n",
      "acq_weights_sampling_rate = None\n",
      "acq_weight_type           = SSB\n",
      "acq_rotation              = 0\n",
      "acq_threshold             = 0\n",
      "\n",
      "q3.reset\n",
      "==============\n",
      "duration = 0.0001\n",
      "\n",
      "q3.clock_freqs\n",
      "===================\n",
      "readout = 5838500000.0\n",
      "q4.measure\n",
      "====================================\n",
      "pulse_type                = SquarePulse\n",
      "pulse_amp                 = 0.1\n",
      "pulse_duration            = 2e-06\n",
      "acq_channel               = 4\n",
      "acq_delay                 = 8e-08\n",
      "integration_time          = 1.5e-06\n",
      "reset_clock_phase         = True\n",
      "acq_weights_a             = None\n",
      "acq_weights_b             = None\n",
      "acq_weights_sampling_rate = None\n",
      "acq_weight_type           = SSB\n",
      "acq_rotation              = 0\n",
      "acq_threshold             = 0\n",
      "\n",
      "q4.reset\n",
      "==============\n",
      "duration = 0.0001\n",
      "\n",
      "q4.clock_freqs\n",
      "===================\n",
      "readout = 6106900000.0\n",
      "q5.measure\n",
      "====================================\n",
      "pulse_type                = SquarePulse\n",
      "pulse_amp                 = 0.07\n",
      "pulse_duration            = 2e-06\n",
      "acq_channel               = 5\n",
      "acq_delay                 = 8e-08\n",
      "integration_time          = 1.5e-06\n",
      "reset_clock_phase         = True\n",
      "acq_weights_a             = None\n",
      "acq_weights_b             = None\n",
      "acq_weights_sampling_rate = None\n",
      "acq_weight_type           = SSB\n",
      "acq_rotation              = 0\n",
      "acq_threshold             = 0\n",
      "\n",
      "q5.reset\n",
      "==============\n",
      "duration = 0.0001\n",
      "\n",
      "q5.clock_freqs\n",
      "===================\n",
      "readout = 5913700000.0\n",
      "updated!\n"
     ]
    }
   ],
   "source": [
    "# If you agree with the result, then run this cell\n",
    "\n",
    "ans = [[5.7198e9,0.03],[6.0082e9,0.1],[5.8385e9,0.07],[6.1069e9,0.1],[5.9137e9,0.07]]  # It's now manual parameters, waiting for analysis\n",
    "\n",
    "executor = True\n",
    "if executor:\n",
    "    for i in range(1,6):\n",
    "        \n",
    "        qubit = quantum_device.get_element(f\"q{i}\")\n",
    "        qubit.measure.pulse_amp(ans[i-1][-1])\n",
    "        qubit.clock_freqs.readout(ans[i-1][0])\n",
    "        show_readout_args(qubit)\n",
    "        \n",
    "        #Storing data\n",
    "        chip_info[\"1Q_information\"][f\"q{i}\"][\"char\"][\"zeroflux\"][\"res\"][\"dress_freq\"] = ans[i-1][0]\n",
    "        \n",
    "        chip_info[\"1Q_information\"][f\"q{i}\"][\"oper\"][\"readout\"][\"amp\"] = ans[i-1][-1]\n",
    "        chip_info[\"1Q_information\"][f\"q{i}\"][\"oper\"][\"readout\"][\"freq\"] = ans[i-1][0]\n",
    "    \n",
    "    update_chip_file(chip_file, chip_info)\n",
    "        \n",
    "    executor = False"
   ]
  },
  {
   "cell_type": "markdown",
   "id": "189255f9-455b-4e8a-92dd-2626ffe48c09",
   "metadata": {},
   "source": [
    "Flux dependent cavity\n",
    "---\n",
    "> Need to set output channel as a parameter"
   ]
  },
  {
   "cell_type": "code",
   "execution_count": 43,
   "id": "8813aad4",
   "metadata": {},
   "outputs": [],
   "source": [
    "# If you finished previous program, want to start from here, then run this cell to acquire chip information\n",
    "\n",
    "for i in range(1, 6):\n",
    "    qubit = quantum_device.get_element(f\"q{i}\")\n",
    "    qubit.clock_freqs.readout(chip_info[\"1Q_information\"][f\"q{i}\"][\"oper\"][\"readout\"][\"freq\"])\n",
    "    \n",
    "    qubit.measure.pulse_amp(chip_info[\"1Q_information\"][f\"q{i}\"][\"oper\"][\"readout\"][\"amp\"])\n",
    "    qubit.measure.pulse_duration(chip_info[\"1Q_information\"][f\"q{i}\"][\"oper\"][\"readout\"][\"dura_time\"])\n",
    "    qubit.measure.acq_delay(chip_info[\"1Q_information\"][f\"q{i}\"][\"oper\"][\"readout\"][\"acq_delay\"])\n",
    "    qubit.measure.integration_time(chip_info[\"1Q_information\"][f\"q{i}\"][\"oper\"][\"readout\"][\"integ_time\"])\n",
    "    qubit.reset.duration(chip_info[\"1Q_information\"][f\"q{i}\"][\"init\"][\"wait\"][\"time\"])"
   ]
  },
  {
   "cell_type": "code",
   "execution_count": 44,
   "id": "06d00960-dd52-4336-9dc8-3bd59b075178",
   "metadata": {},
   "outputs": [
    {
     "name": "stdout",
     "output_type": "stream",
     "text": [
      "spec_sched_kwargs\n",
      "========================\n",
      "pulse_amp         = 0.05\n",
      "pulse_duration    = 2e-06\n",
      "frequencies       = freq\n",
      "acquisition_delay = 8e-08\n",
      "integration_time  = 1.5e-06\n",
      "init_duration     = 0.0001\n",
      "port              = q1:res\n",
      "clock             = q1.ro\n"
     ]
    },
    {
     "data": {
      "image/png": "[encoded data removed]",
      "text/plain": [
       "<Figure size 1000x100 with 1 Axes>"
      ]
     },
     "metadata": {
      "needs_background": "light"
     },
     "output_type": "display_data"
    }
   ],
   "source": [
    "# ============= manually set Parameters =================\n",
    "execute = False\n",
    "qubit_want_to_meas = [1,0,0,0,0]\n",
    "# =======================================================\n",
    "\n",
    "def FluxDep(quantum_device:QuantumDevice,qubit_want_to_meas:list,ro_span_Hz:int=2e6,flux_span:float=0.3,n_avg:int=300,flux_point:int=25,rof_point:int=25,run:bool=True):\n",
    "    \n",
    "    sche_func = heterodyne_spec_sched_nco\n",
    "    analysis_result = {}\n",
    "    ro_elements = qubits_meas(quantum_device, qubit_want_to_meas)\n",
    "    \n",
    "    for q in ro_elements:\n",
    "        qubit = quantum_device.get_element(q)\n",
    "        \n",
    "        # Check if chip_info is download\n",
    "        if  qubit.measure.pulse_amp() == 0:\n",
    "            raise ValueError(\"Missed some nessesary value!\")\n",
    "        else:\n",
    "            pass\n",
    "        \n",
    "        rof_center = qubit.clock_freqs.readout()  # Range ~4MHz\n",
    "        rof_samples = linspace(rof_center-ro_span_Hz,rof_center+ro_span_Hz,rof_point)\n",
    "        bias_samples = linspace(-flux_span,flux_span,flux_point)\n",
    "\n",
    "        # declare variables\n",
    "        freq = ManualParameter(name=\"freq\", unit=\"Hz\", label=\"Frequency\")\n",
    "        freq.batched = True\n",
    "        freq.batch_size = 100\n",
    "\n",
    "        # Requisition\n",
    "        spec_sched_kwargs = dict(\n",
    "            pulse_amp=qubit.measure.pulse_amp(),\n",
    "            pulse_duration=qubit.measure.pulse_duration(),\n",
    "            frequencies=freq,\n",
    "            acquisition_delay=qubit.measure.acq_delay(),\n",
    "            integration_time=qubit.measure.integration_time(),\n",
    "            init_duration=qubit.reset.duration(),\n",
    "            port=qubit.ports.readout(),\n",
    "            clock=qubit.name + \".ro\",\n",
    "        )\n",
    "        show_args(spec_sched_kwargs, title=\"spec_sched_kwargs\")\n",
    "        if run:\n",
    "            gettable = ScheduleGettable(\n",
    "                quantum_device,\n",
    "                schedule_function=sche_func,\n",
    "                schedule_kwargs=spec_sched_kwargs,\n",
    "                real_imag=False,\n",
    "                batched=True,\n",
    "            )\n",
    "            # send the requisition to MeasurementControl-er\n",
    "            quantum_device.cfg_sched_repetitions(n_avg)\n",
    "            meas_ctrl.gettables(gettable)\n",
    "            meas_ctrl.settables([freq, flux_settable_map[q]]) \n",
    "            meas_ctrl.setpoints_grid((rof_samples, bias_samples))\n",
    "\n",
    "            # MeasurementControl-er start measurement by the requisition\n",
    "            rfs_ds = meas_ctrl.run(\"resonator flux spectroscopy\")\n",
    "            rfs_ds\n",
    "            print(rfs_ds)\n",
    "\n",
    "            # analysis\n",
    "            analysis_result[q] = ResonatorFluxSpectroscopyAnalysis(tuid=rfs_ds.attrs[\"tuid\"], dataset=rfs_ds).run()\n",
    "            \n",
    "            # Feedback\n",
    "            # qubit.clock_freqs.readout(rfs_analysis.quantities_of_interest[\"freq_0\"])\n",
    "            # flux_settable(rfs_analysis.quantities_of_interest[\"offset_0\"].nominal_value)\n",
    "        else:\n",
    "            spec_sched_kwargs['frequencies'] = np.array([np.max(rof_samples)])\n",
    "            pulse_preview(quantum_device,sche_func,spec_sched_kwargs)\n",
    "            # TODO: add flux channel into figure\n",
    "            \n",
    "    return analysis_result\n",
    "\n",
    "\n",
    "FD_results = FluxDep(quantum_device,qubit_want_to_meas,run=execute)\n",
    "if execute:\n",
    "    FD_results_alignPlot(quantum_device,FD_results,show_mode='amp')\n",
    "\n",
    "# for q in FD_results:\n",
    "#     FD_results[q].run(fit_method=\"fast\", sweetspot_index=0).display_figs_mpl()"
   ]
  },
  {
   "cell_type": "code",
   "execution_count": 69,
   "id": "bc798be9",
   "metadata": {},
   "outputs": [
    {
     "name": "stdout",
     "output_type": "stream",
     "text": [
      "q4.measure\n",
      "====================================\n",
      "pulse_type                = SquarePulse\n",
      "pulse_amp                 = 0.05\n",
      "pulse_duration            = 2e-06\n",
      "acq_channel               = 4\n",
      "acq_delay                 = 8e-08\n",
      "integration_time          = 1.5e-06\n",
      "reset_clock_phase         = True\n",
      "acq_weights_a             = None\n",
      "acq_weights_b             = None\n",
      "acq_weights_sampling_rate = None\n",
      "acq_weight_type           = SSB\n",
      "acq_rotation              = 0\n",
      "acq_threshold             = 0\n",
      "\n",
      "q4.reset\n",
      "==============\n",
      "duration = 0.0001\n",
      "\n",
      "q4.clock_freqs\n",
      "========================\n",
      "readout = 6107158933.436091\n",
      "updated!\n"
     ]
    }
   ],
   "source": [
    "# If you agree with the result, then run this cell\n",
    "\n",
    "executor = True\n",
    "if executor:\n",
    "    for idx,q in enumerate(FD_results):\n",
    "        qubit = quantum_device.get_element(q)\n",
    "        \n",
    "        chip_info[\"1Q_information\"][q][\"char\"][\"Max\"][\"res\"][\"dress_freq\"] = FD_results[q].quantities_of_interest[\"freq_0\"]\n",
    "        chip_info[\"1Q_information\"][q][\"char\"][\"Max\"][\"flux\"] = FD_results[q].quantities_of_interest[\"offset_0\"].nominal_value\n",
    "        \n",
    "        # chip_info[\"1Q_information\"][q][\"char\"][\"min\"][\"res\"][\"dress_freq\"] = \n",
    "        # chip_info[\"1Q_information\"][q][\"char\"][\"min\"][\"flux\"] = \n",
    "        \n",
    "        # chip_info[\"1Q_information\"][q][\"char\"][\"idle1\"][\"res\"][\"dress_freq\"] = \n",
    "        # chip_info[\"1Q_information\"][q][\"char\"][\"idle1\"][\"flux\"] = \n",
    "        \n",
    "        chip_info[\"1Q_information\"][q][\"oper\"][\"readout\"][\"freq\"] = FD_results[q].quantities_of_interest[\"freq_0\"]\n",
    "        chip_info[\"1Q_information\"][q][\"oper\"][\"readout\"][\"flux\"] = FD_results[q].quantities_of_interest[\"offset_0\"].nominal_value\n",
    "        \n",
    "        show_readout_args(qubit)\n",
    "    \n",
    "    update_chip_file(chip_file, chip_info)\n",
    "\n",
    "    executor = False"
   ]
  },
  {
   "attachments": {},
   "cell_type": "markdown",
   "id": "bff610b9-f04f-436c-85f6-fca80547d27a",
   "metadata": {},
   "source": [
    "Two-tone\n",
    "----\n"
   ]
  },
  {
   "cell_type": "code",
   "execution_count": 45,
   "id": "5ff52823",
   "metadata": {},
   "outputs": [],
   "source": [
    "# If you finished previous program, want to start from here, then run this cell to acquire chip information\n",
    "\n",
    "for i in range(1, 6):\n",
    "    qubit = quantum_device.get_element(f\"q{i}\")\n",
    "    qubit.clock_freqs.readout(chip_info[\"1Q_information\"][f\"q{i}\"][\"oper\"][\"readout\"][\"freq\"])\n",
    "    \n",
    "    qubit.measure.pulse_amp(chip_info[\"1Q_information\"][f\"q{i}\"][\"oper\"][\"readout\"][\"amp\"])\n",
    "    qubit.measure.pulse_duration(chip_info[\"1Q_information\"][f\"q{i}\"][\"oper\"][\"readout\"][\"dura_time\"])\n",
    "    qubit.measure.acq_delay(chip_info[\"1Q_information\"][f\"q{i}\"][\"oper\"][\"readout\"][\"acq_delay\"])\n",
    "    qubit.measure.integration_time(chip_info[\"1Q_information\"][f\"q{i}\"][\"oper\"][\"readout\"][\"integ_time\"])\n",
    "    qubit.reset.duration(chip_info[\"1Q_information\"][f\"q{i}\"][\"init\"][\"wait\"][\"time\"])"
   ]
  },
  {
   "cell_type": "code",
   "execution_count": 48,
   "id": "1fddc9e0",
   "metadata": {},
   "outputs": [
    {
     "name": "stdout",
     "output_type": "stream",
     "text": [
      "updated!\n"
     ]
    }
   ],
   "source": [
    "# Temporarily Tune away bias\n",
    "\n",
    "tune_away = {\n",
    "    \"q1\": [0, 0, 0, 0, 0],\n",
    "    \"q2\": [0, 0, 0, 0, 0],\n",
    "    \"q3\": [0, 0.2, 0, 0, 0],\n",
    "    \"q4\": [0, 0, 0, 0, 0],\n",
    "    \"q5\": [0, 0, 0, 0, 0]\n",
    "    }\n",
    "\n",
    "executor = True\n",
    "if executor:\n",
    "    for i in range(1, 6):\n",
    "        qubit = quantum_device.get_element(f\"q{i}\")\n",
    "        \n",
    "        for j in range(1,6):\n",
    "            chip_info[\"1Q_information\"][f\"q{i}\"][\"oper\"][\"tune_away\"][f\"q{j}_flux\"] = tune_away[f\"q{i}\"][j-1]\n",
    "        \n",
    "    update_chip_file(chip_file, chip_info)\n",
    "    \n",
    "    executor = False\n"
   ]
  },
  {
   "cell_type": "code",
   "execution_count": 49,
   "id": "90648b76-6809-4aa2-870b-c0ac98be064d",
   "metadata": {},
   "outputs": [
    {
     "name": "stdout",
     "output_type": "stream",
     "text": [
      "flux setpoint q1 0.0889601707458496 V\n",
      "flux setpoint q2 0.0 V\n",
      "flux setpoint q3 0.0 V\n",
      "flux setpoint q4 0.0 V\n",
      "flux setpoint q5 0.0 V\n",
      "qubit_spec_sched_kwargs\n",
      "===========================\n",
      "qubit_name             = q1\n",
      "spec_pulse_amp         = 0.05\n",
      "spec_pulse_duration    = 2e-05\n",
      "spec_pulse_port        = q1:mw\n",
      "spec_pulse_clock       = q1.01\n",
      "spec_pulse_frequencies = freq\n"
     ]
    },
    {
     "data": {
      "image/png": "[encoded data removed]",
      "text/plain": [
       "<Figure size 1000x200 with 1 Axes>"
      ]
     },
     "metadata": {
      "needs_background": "light"
     },
     "output_type": "display_data"
    },
    {
     "data": {
      "image/png": "[encoded data removed]",
      "text/plain": [
       "<Figure size 1000x200 with 1 Axes>"
      ]
     },
     "metadata": {
      "needs_background": "light"
     },
     "output_type": "display_data"
    }
   ],
   "source": [
    "# ============= manually set Parameters =================\n",
    "execute = False\n",
    "qubit_want_to_meas = [1,0,0,0,0]  # It can measure only one qubit now # Some thing went wrong! only scanning the range of q1!    \n",
    "# =======================================================\n",
    "\n",
    "# from quantify_scheduler.schedules._visualization.pulse_diagram import sample_schedule, plot_single_subplot_mpl\n",
    "\n",
    "def QubitSearch(quantum_device:QuantumDevice,qubit_want_to_meas:list,estimation:dict,xyf_span_Hz:int=40e6,xyl:list=[0.0001],n_avg:int=3000,fitpoint:int=800,run:bool=True):\n",
    "    \n",
    "    sche_func = two_tone_spec_sched_nco\n",
    "    analysis_result = {}\n",
    "    ro_elements = qubits_meas(quantum_device, qubit_want_to_meas)\n",
    "    \n",
    "    # Check xyl size\n",
    "    if len(xyl) != len(ro_elements):\n",
    "        xyll = []\n",
    "        for i in ro_elements:\n",
    "            xyll.append(xyl[0])\n",
    "        xyl = xyll\n",
    "    \n",
    "    for idx, q in enumerate(ro_elements):\n",
    "        qubit = quantum_device.get_element(q)\n",
    "        qubit.clock_freqs.readout(chip_info[\"1Q_information\"][q][\"oper\"][\"readout\"][\"freq\"])\n",
    "        \n",
    "        # Set tune away flux bias\n",
    "        for i in range(1, 6):\n",
    "            if f\"q{i}\" == qubit.name:\n",
    "                flux_settable_map[f\"q{i}\"](chip_info[\"1Q_information\"][q][\"oper\"][\"readout\"][\"flux\"])\n",
    "            else:\n",
    "                #TODO: tune away resonator freq: qubit.clock_freqs.readout(freq)\n",
    "                flux_settable_map[f\"q{i}\"](chip_info[\"1Q_information\"][q][\"oper\"][\"tune_away\"][f\"q{i}_flux\"])\n",
    "        for k, v in flux_settable_map.items():\n",
    "            print(\"flux setpoint\", k, v(), v.unit)\n",
    "        \n",
    "        # Check if chip_info is download\n",
    "        if  qubit.measure.pulse_amp() == 0:\n",
    "            raise ValueError(\"Missed some nessesary value!\")\n",
    "        else:\n",
    "            pass\n",
    "        \n",
    "        xyf_center = estimation[q]\n",
    "        xyf_samples = linspace(xyf_center-xyf_span_Hz,xyf_center+xyf_span_Hz,fitpoint)\n",
    "\n",
    "        # declare the variables\n",
    "        freq = ManualParameter(name=\"freq\", unit=\"Hz\", label=\"Frequency\")\n",
    "        freq.batched = True\n",
    "        freq.batch_size = 100\n",
    "\n",
    "        # Requisition\n",
    "        qubit_spec_sched_kwargs = dict(\n",
    "            qubit_name=qubit.name,\n",
    "            spec_pulse_amp=xyl[idx],\n",
    "            spec_pulse_duration=2e-5,\n",
    "            spec_pulse_port=qubit.ports.microwave(),\n",
    "            spec_pulse_clock=qubit.name + \".01\",\n",
    "            spec_pulse_frequencies=freq\n",
    "        )\n",
    "        show_args(qubit_spec_sched_kwargs, title=\"qubit_spec_sched_kwargs\")\n",
    "\n",
    "        # send the requisition to MeasurementControl-er\n",
    "        if run:\n",
    "            gettable = ScheduleGettable(\n",
    "                quantum_device,\n",
    "                schedule_function=sche_func,\n",
    "                schedule_kwargs=qubit_spec_sched_kwargs,\n",
    "                real_imag=False,\n",
    "                batched=True,\n",
    "            )\n",
    "            quantum_device.cfg_sched_repetitions(n_avg)\n",
    "            meas_ctrl.gettables(gettable)\n",
    "            meas_ctrl.settables(freq)\n",
    "            meas_ctrl.setpoints(xyf_samples)\n",
    "\n",
    "            # MeasurementControl-er start measurement by the requisition\n",
    "            qs_ds = meas_ctrl.run(\"Two-tone\")\n",
    "            qs_ds\n",
    "\n",
    "            # analysis\n",
    "            analysis_result[q] = QubitSpectroscopyAnalysis(tuid=qs_ds.attrs[\"tuid\"], dataset=qs_ds).run()\n",
    "            \n",
    "            # Feedback\n",
    "            # qubit.clock_freqs.f01(qs_analysis.quantities_of_interest['frequency_01'].nominal_value)\n",
    "        else: # TODO: Check it, i believe it's wrong \n",
    "            # readout spec\n",
    "            '''\n",
    "            RO_sched_kwargs = dict(\n",
    "                pulse_amp=qubit.measure.pulse_amp(),\n",
    "                pulse_duration=qubit.measure.pulse_duration(),\n",
    "                frequencies=np.array([qubit.clock_freqs.readout()]),\n",
    "                acquisition_delay=qubit.measure.acq_delay(),\n",
    "                integration_time=qubit.measure.integration_time(),\n",
    "                init_duration=qubit.reset.duration(),\n",
    "                port=qubit.ports.readout(),\n",
    "                clock=qubit.name + \".ro\",\n",
    "            )\n",
    "            qubit_spec_sched_kwargs[\"spec_pulse_frequencies\"] = np.array([np.max(xyf_samples)])\n",
    "            device_compiler = SerialCompiler(\"Device compiler\", quantum_device)\n",
    "            ctrl_port_sche = sample_schedule(device_compiler.compile(sche_func(**qubit_spec_sched_kwargs)),port_list=[\"q1:mw\"])\n",
    "            meas_port_sche = sample_schedule(device_compiler.compile(ro_sche_func(**RO_sched_kwargs)),port_list=[\"q1:res\"])\n",
    "            meas_port_sche.update(ctrl_port_sche)\n",
    "            print(meas_port_sche.keys())\n",
    "            plot_single_subplot_mpl(meas_port_sche)\n",
    "            '''\n",
    "            \n",
    "            qubit_spec_sched_kwargs[\"spec_pulse_frequencies\"] = np.array([np.max(xyf_samples)])\n",
    "            pulse_preview(quantum_device,sche_func,qubit_spec_sched_kwargs)\n",
    "            \n",
    "            pass\n",
    "            # pulse_preview(quantum_device,sche_func,qubit_spec_sched_kwargs,plot_kwargs=dict(multiple_subplots=True),port_list=[\"q1:res\",\"q1:mw\"])\n",
    "    return analysis_result\n",
    "\n",
    "QS_results = QubitSearch(quantum_device,qubit_want_to_meas,estimate_f_qubits,fitpoint=100,n_avg=2000,xyl=[0.05],run=execute)\n",
    "if execute:\n",
    "    for q in QS_results:\n",
    "        QS_results[q].display_figs_mpl()"
   ]
  },
  {
   "cell_type": "code",
   "execution_count": 12,
   "id": "26c28af7",
   "metadata": {},
   "outputs": [
    {
     "name": "stdout",
     "output_type": "stream",
     "text": [
      "q4.rxy\n",
      "=============\n",
      "amp180   = nan\n",
      "motzoi   = 0\n",
      "duration = 2e-08\n",
      "\n",
      "q4.clock_freqs\n",
      "====================\n",
      "f01 = 4027438625.918125\n",
      "updated!\n"
     ]
    }
   ],
   "source": [
    "# If you agree with the result, then run this cell\n",
    "\n",
    "executor = True\n",
    "if executor:\n",
    "    for q in QS_results:\n",
    "        qubit = quantum_device.get_element(q)\n",
    "        qubit.clock_freqs.f01(QS_results[q].quantities_of_interest['frequency_01'].nominal_value)\n",
    "        show_drive_args(qubit)\n",
    "        \n",
    "        chip_info[\"1Q_information\"][q][\"char\"][\"Max\"][\"qubit\"][\"freq\"] = QS_results[q].quantities_of_interest['frequency_01'].nominal_value\n",
    "        chip_info[\"1Q_information\"][q][\"oper\"][\"x_gate\"][\"freq\"] = QS_results[q].quantities_of_interest['frequency_01'].nominal_value\n",
    "        \n",
    "    update_chip_file(chip_file, chip_info)\n",
    "    \n",
    "    executor = False\n"
   ]
  },
  {
   "attachments": {},
   "cell_type": "markdown",
   "id": "6220bea2",
   "metadata": {},
   "source": [
    "## Qubit flux spectorscopy\n",
    "\n",
    "Get tune_away flux\n",
    "> underdeveloping\n"
   ]
  },
  {
   "cell_type": "code",
   "execution_count": 11,
   "id": "ea0825ef",
   "metadata": {},
   "outputs": [],
   "source": [
    "# If you finished previous program, want to start from here, then run this cell to acquire chip information\n",
    "\n",
    "for i in range(1, 6):\n",
    "    qubit = quantum_device.get_element(f\"q{i}\")\n",
    "    qubit.clock_freqs.readout(chip_info[\"1Q_information\"][f\"q{i}\"][\"oper\"][\"readout\"][\"freq\"])\n",
    "    \n",
    "    qubit.measure.pulse_amp(chip_info[\"1Q_information\"][f\"q{i}\"][\"oper\"][\"readout\"][\"amp\"])\n",
    "    qubit.measure.pulse_duration(chip_info[\"1Q_information\"][f\"q{i}\"][\"oper\"][\"readout\"][\"dura_time\"])\n",
    "    qubit.measure.acq_delay(chip_info[\"1Q_information\"][f\"q{i}\"][\"oper\"][\"readout\"][\"acq_delay\"])\n",
    "    qubit.measure.integration_time(chip_info[\"1Q_information\"][f\"q{i}\"][\"oper\"][\"readout\"][\"integ_time\"])\n",
    "    qubit.reset.duration(chip_info[\"1Q_information\"][f\"q{i}\"][\"init\"][\"wait\"][\"time\"])\n",
    "    \n",
    "    qubit.clock_freqs.f01(chip_info[\"1Q_information\"][f\"q{i}\"][\"oper\"][\"x_gate\"][\"freq\"])\n",
    "    qubit.rxy.amp180(chip_info[\"1Q_information\"][f\"q{i}\"][\"oper\"][\"x_gate\"][\"amp\"])\n",
    "    qubit.rxy.duration(chip_info[\"1Q_information\"][f\"q{i}\"][\"oper\"][\"x_gate\"][\"dura_time\"])"
   ]
  },
  {
   "cell_type": "code",
   "execution_count": 13,
   "id": "919d47f6",
   "metadata": {},
   "outputs": [
    {
     "name": "stdout",
     "output_type": "stream",
     "text": [
      "flux setpoint q1 0.299992322921753 V\n",
      "flux setpoint q2 -0.239986181259155 V\n",
      "flux setpoint q3 -0.199969530105591 V\n",
      "flux setpoint q4 -0.219996929168701 V\n",
      "flux setpoint q5 -0.239986181259155 V\n",
      "qubit_spec_sched_kwargs\n",
      "=========================================\n",
      "qubit_name             = q1\n",
      "spec_pulse_frequencies = freq\n",
      "spec_pulse_amp         = 0.39680845530160297\n",
      "spec_pulse_duration    = 2e-08\n",
      "spec_pulse_port        = q1:mw\n",
      "spec_pulse_clock       = q1.01\n",
      "Starting batched measurement...\n",
      "Iterative settable(s) [outer loop(s)]:\n",
      "\t out0_offset \n",
      "Batched settable(s):\n",
      "\t freq \n",
      "Batch size limit: 625\n",
      "\n"
     ]
    },
    {
     "name": "stderr",
     "output_type": "stream",
     "text": [
      "WARNING:quantify_scheduler.gettables:Default data_labels may not match the acquisition channel. Element 0 with label Magnitude0 corresponds to acq_channel 1, while they were expected to match. To fix this behavior either specify custom data_labels, or ensure your acquisition channels are sequential starting from 0.\n"
     ]
    },
    {
     "name": "stdout",
     "output_type": "stream",
     "text": [
      "  4% completed | elapsed time:      1s | time left:     41s  last batch size:     25  "
     ]
    },
    {
     "name": "stderr",
     "output_type": "stream",
     "text": [
      "WARNING:quantify_scheduler.gettables:Default data_labels may not match the acquisition channel. Element 0 with label Magnitude0 corresponds to acq_channel 1, while they were expected to match. To fix this behavior either specify custom data_labels, or ensure your acquisition channels are sequential starting from 0.\n"
     ]
    },
    {
     "name": "stdout",
     "output_type": "stream",
     "text": [
      "  8% completed | elapsed time:      3s | time left:     38s  last batch size:     25  "
     ]
    },
    {
     "name": "stderr",
     "output_type": "stream",
     "text": [
      "WARNING:quantify_scheduler.gettables:Default data_labels may not match the acquisition channel. Element 0 with label Magnitude0 corresponds to acq_channel 1, while they were expected to match. To fix this behavior either specify custom data_labels, or ensure your acquisition channels are sequential starting from 0.\n"
     ]
    },
    {
     "name": "stdout",
     "output_type": "stream",
     "text": [
      " 12% completed | elapsed time:      4s | time left:     35s  last batch size:     25  "
     ]
    },
    {
     "name": "stderr",
     "output_type": "stream",
     "text": [
      "WARNING:quantify_scheduler.gettables:Default data_labels may not match the acquisition channel. Element 0 with label Magnitude0 corresponds to acq_channel 1, while they were expected to match. To fix this behavior either specify custom data_labels, or ensure your acquisition channels are sequential starting from 0.\n"
     ]
    },
    {
     "name": "stdout",
     "output_type": "stream",
     "text": [
      " 16% completed | elapsed time:      6s | time left:     33s  last batch size:     25  "
     ]
    },
    {
     "name": "stderr",
     "output_type": "stream",
     "text": [
      "WARNING:quantify_scheduler.gettables:Default data_labels may not match the acquisition channel. Element 0 with label Magnitude0 corresponds to acq_channel 1, while they were expected to match. To fix this behavior either specify custom data_labels, or ensure your acquisition channels are sequential starting from 0.\n"
     ]
    },
    {
     "name": "stdout",
     "output_type": "stream",
     "text": [
      " 20% completed | elapsed time:      8s | time left:     32s  last batch size:     25  "
     ]
    },
    {
     "name": "stderr",
     "output_type": "stream",
     "text": [
      "WARNING:quantify_scheduler.gettables:Default data_labels may not match the acquisition channel. Element 0 with label Magnitude0 corresponds to acq_channel 1, while they were expected to match. To fix this behavior either specify custom data_labels, or ensure your acquisition channels are sequential starting from 0.\n"
     ]
    },
    {
     "name": "stdout",
     "output_type": "stream",
     "text": [
      " 24% completed | elapsed time:      9s | time left:     30s  last batch size:     25  "
     ]
    },
    {
     "name": "stderr",
     "output_type": "stream",
     "text": [
      "WARNING:quantify_scheduler.gettables:Default data_labels may not match the acquisition channel. Element 0 with label Magnitude0 corresponds to acq_channel 1, while they were expected to match. To fix this behavior either specify custom data_labels, or ensure your acquisition channels are sequential starting from 0.\n"
     ]
    },
    {
     "name": "stdout",
     "output_type": "stream",
     "text": [
      " 28% completed | elapsed time:     11s | time left:     29s  last batch size:     25  "
     ]
    },
    {
     "name": "stderr",
     "output_type": "stream",
     "text": [
      "WARNING:quantify_scheduler.gettables:Default data_labels may not match the acquisition channel. Element 0 with label Magnitude0 corresponds to acq_channel 1, while they were expected to match. To fix this behavior either specify custom data_labels, or ensure your acquisition channels are sequential starting from 0.\n"
     ]
    },
    {
     "name": "stdout",
     "output_type": "stream",
     "text": [
      " 32% completed | elapsed time:     12s | time left:     27s  last batch size:     25  "
     ]
    },
    {
     "name": "stderr",
     "output_type": "stream",
     "text": [
      "WARNING:quantify_scheduler.gettables:Default data_labels may not match the acquisition channel. Element 0 with label Magnitude0 corresponds to acq_channel 1, while they were expected to match. To fix this behavior either specify custom data_labels, or ensure your acquisition channels are sequential starting from 0.\n"
     ]
    },
    {
     "name": "stdout",
     "output_type": "stream",
     "text": [
      " 36% completed | elapsed time:     14s | time left:     26s  last batch size:     25  "
     ]
    },
    {
     "name": "stderr",
     "output_type": "stream",
     "text": [
      "WARNING:quantify_scheduler.gettables:Default data_labels may not match the acquisition channel. Element 0 with label Magnitude0 corresponds to acq_channel 1, while they were expected to match. To fix this behavior either specify custom data_labels, or ensure your acquisition channels are sequential starting from 0.\n"
     ]
    },
    {
     "name": "stdout",
     "output_type": "stream",
     "text": [
      " 40% completed | elapsed time:     16s | time left:     24s  last batch size:     25  "
     ]
    },
    {
     "name": "stderr",
     "output_type": "stream",
     "text": [
      "WARNING:quantify_scheduler.gettables:Default data_labels may not match the acquisition channel. Element 0 with label Magnitude0 corresponds to acq_channel 1, while they were expected to match. To fix this behavior either specify custom data_labels, or ensure your acquisition channels are sequential starting from 0.\n"
     ]
    },
    {
     "name": "stdout",
     "output_type": "stream",
     "text": [
      " 44% completed | elapsed time:     17s | time left:     22s  last batch size:     25  "
     ]
    },
    {
     "name": "stderr",
     "output_type": "stream",
     "text": [
      "WARNING:quantify_scheduler.gettables:Default data_labels may not match the acquisition channel. Element 0 with label Magnitude0 corresponds to acq_channel 1, while they were expected to match. To fix this behavior either specify custom data_labels, or ensure your acquisition channels are sequential starting from 0.\n"
     ]
    },
    {
     "name": "stdout",
     "output_type": "stream",
     "text": [
      " 48% completed | elapsed time:     19s | time left:     21s  last batch size:     25  "
     ]
    },
    {
     "name": "stderr",
     "output_type": "stream",
     "text": [
      "WARNING:quantify_scheduler.gettables:Default data_labels may not match the acquisition channel. Element 0 with label Magnitude0 corresponds to acq_channel 1, while they were expected to match. To fix this behavior either specify custom data_labels, or ensure your acquisition channels are sequential starting from 0.\n"
     ]
    },
    {
     "name": "stdout",
     "output_type": "stream",
     "text": [
      " 52% completed | elapsed time:     21s | time left:     19s  last batch size:     25  "
     ]
    },
    {
     "name": "stderr",
     "output_type": "stream",
     "text": [
      "WARNING:quantify_scheduler.gettables:Default data_labels may not match the acquisition channel. Element 0 with label Magnitude0 corresponds to acq_channel 1, while they were expected to match. To fix this behavior either specify custom data_labels, or ensure your acquisition channels are sequential starting from 0.\n"
     ]
    },
    {
     "name": "stdout",
     "output_type": "stream",
     "text": [
      " 56% completed | elapsed time:     22s | time left:     17s  last batch size:     25  "
     ]
    },
    {
     "name": "stderr",
     "output_type": "stream",
     "text": [
      "WARNING:quantify_scheduler.gettables:Default data_labels may not match the acquisition channel. Element 0 with label Magnitude0 corresponds to acq_channel 1, while they were expected to match. To fix this behavior either specify custom data_labels, or ensure your acquisition channels are sequential starting from 0.\n"
     ]
    },
    {
     "name": "stdout",
     "output_type": "stream",
     "text": [
      " 60% completed | elapsed time:     24s | time left:     16s  last batch size:     25  "
     ]
    },
    {
     "name": "stderr",
     "output_type": "stream",
     "text": [
      "WARNING:quantify_scheduler.gettables:Default data_labels may not match the acquisition channel. Element 0 with label Magnitude0 corresponds to acq_channel 1, while they were expected to match. To fix this behavior either specify custom data_labels, or ensure your acquisition channels are sequential starting from 0.\n"
     ]
    },
    {
     "name": "stdout",
     "output_type": "stream",
     "text": [
      " 64% completed | elapsed time:     26s | time left:     15s  last batch size:     25  "
     ]
    },
    {
     "name": "stderr",
     "output_type": "stream",
     "text": [
      "WARNING:quantify_scheduler.gettables:Default data_labels may not match the acquisition channel. Element 0 with label Magnitude0 corresponds to acq_channel 1, while they were expected to match. To fix this behavior either specify custom data_labels, or ensure your acquisition channels are sequential starting from 0.\n"
     ]
    },
    {
     "name": "stdout",
     "output_type": "stream",
     "text": [
      " 68% completed | elapsed time:     29s | time left:     13s  last batch size:     25  "
     ]
    },
    {
     "name": "stderr",
     "output_type": "stream",
     "text": [
      "WARNING:quantify_scheduler.gettables:Default data_labels may not match the acquisition channel. Element 0 with label Magnitude0 corresponds to acq_channel 1, while they were expected to match. To fix this behavior either specify custom data_labels, or ensure your acquisition channels are sequential starting from 0.\n"
     ]
    },
    {
     "name": "stdout",
     "output_type": "stream",
     "text": [
      " 72% completed | elapsed time:     31s | time left:     12s  last batch size:     25  "
     ]
    },
    {
     "name": "stderr",
     "output_type": "stream",
     "text": [
      "WARNING:quantify_scheduler.gettables:Default data_labels may not match the acquisition channel. Element 0 with label Magnitude0 corresponds to acq_channel 1, while they were expected to match. To fix this behavior either specify custom data_labels, or ensure your acquisition channels are sequential starting from 0.\n"
     ]
    },
    {
     "name": "stdout",
     "output_type": "stream",
     "text": [
      " 76% completed | elapsed time:     33s | time left:     10s  last batch size:     25  "
     ]
    },
    {
     "name": "stderr",
     "output_type": "stream",
     "text": [
      "WARNING:quantify_scheduler.gettables:Default data_labels may not match the acquisition channel. Element 0 with label Magnitude0 corresponds to acq_channel 1, while they were expected to match. To fix this behavior either specify custom data_labels, or ensure your acquisition channels are sequential starting from 0.\n"
     ]
    },
    {
     "name": "stdout",
     "output_type": "stream",
     "text": [
      " 80% completed | elapsed time:     34s | time left:      8s  last batch size:     25  "
     ]
    },
    {
     "name": "stderr",
     "output_type": "stream",
     "text": [
      "WARNING:quantify_scheduler.gettables:Default data_labels may not match the acquisition channel. Element 0 with label Magnitude0 corresponds to acq_channel 1, while they were expected to match. To fix this behavior either specify custom data_labels, or ensure your acquisition channels are sequential starting from 0.\n"
     ]
    },
    {
     "name": "stdout",
     "output_type": "stream",
     "text": [
      " 84% completed | elapsed time:     36s | time left:      6s  last batch size:     25  "
     ]
    },
    {
     "name": "stderr",
     "output_type": "stream",
     "text": [
      "WARNING:quantify_scheduler.gettables:Default data_labels may not match the acquisition channel. Element 0 with label Magnitude0 corresponds to acq_channel 1, while they were expected to match. To fix this behavior either specify custom data_labels, or ensure your acquisition channels are sequential starting from 0.\n"
     ]
    },
    {
     "name": "stdout",
     "output_type": "stream",
     "text": [
      " 88% completed | elapsed time:     37s | time left:      5s  last batch size:     25  "
     ]
    },
    {
     "name": "stderr",
     "output_type": "stream",
     "text": [
      "WARNING:quantify_scheduler.gettables:Default data_labels may not match the acquisition channel. Element 0 with label Magnitude0 corresponds to acq_channel 1, while they were expected to match. To fix this behavior either specify custom data_labels, or ensure your acquisition channels are sequential starting from 0.\n"
     ]
    },
    {
     "name": "stdout",
     "output_type": "stream",
     "text": [
      " 92% completed | elapsed time:     39s | time left:      3s  last batch size:     25  "
     ]
    },
    {
     "name": "stderr",
     "output_type": "stream",
     "text": [
      "WARNING:quantify_scheduler.gettables:Default data_labels may not match the acquisition channel. Element 0 with label Magnitude0 corresponds to acq_channel 1, while they were expected to match. To fix this behavior either specify custom data_labels, or ensure your acquisition channels are sequential starting from 0.\n"
     ]
    },
    {
     "name": "stdout",
     "output_type": "stream",
     "text": [
      " 96% completed | elapsed time:     40s | time left:      1s  last batch size:     25  "
     ]
    },
    {
     "name": "stderr",
     "output_type": "stream",
     "text": [
      "WARNING:quantify_scheduler.gettables:Default data_labels may not match the acquisition channel. Element 0 with label Magnitude0 corresponds to acq_channel 1, while they were expected to match. To fix this behavior either specify custom data_labels, or ensure your acquisition channels are sequential starting from 0.\n"
     ]
    },
    {
     "name": "stdout",
     "output_type": "stream",
     "text": [
      "100% completed | elapsed time:     42s | time left:      0s  last batch size:     25  \n",
      "100% completed | elapsed time:     42s | time left:      0s  last batch size:     25  <xarray.Dataset>\n",
      "Dimensions:  (dim_0: 625)\n",
      "Coordinates:\n",
      "    x0       (dim_0) float64 4.107e+09 4.107e+09 ... 4.111e+09 4.111e+09\n",
      "    x1       (dim_0) float64 -0.05 -0.05 -0.05 -0.05 ... 0.05 0.05 0.05 0.05\n",
      "Dimensions without coordinates: dim_0\n",
      "Data variables:\n",
      "    y0       (dim_0) float64 0.001501 0.001542 0.001664 ... 0.001433 0.001523\n",
      "    y1       (dim_0) float64 -80.86 -79.0 -79.13 -77.18 ... -83.98 -84.66 -82.29\n",
      "Attributes:\n",
      "    tuid:                             20240110-165834-622-b6dbd7\n",
      "    name:                             flux two-tone\n",
      "    grid_2d:                          True\n",
      "    grid_2d_uniformly_spaced:         True\n",
      "    1d_2_settables_uniformly_spaced:  False\n",
      "    xlen:                             25\n",
      "    ylen:                             25\n"
     ]
    },
    {
     "data": {
      "image/png": "[encoded data removed]",
      "text/plain": [
       "<Figure size 480x480 with 2 Axes>"
      ]
     },
     "metadata": {},
     "output_type": "display_data"
    }
   ],
   "source": [
    "# ============= manually set Parameters =================\n",
    "execute = True\n",
    "qubit_want_to_meas = [1,0,0,0,0]\n",
    "# =======================================================\n",
    "\n",
    "def QubitFluxDep(quantum_device:QuantumDevice,qubit_want_to_meas:list,xyf_span_Hz:int=2e6,flux_span:float=0.05,n_avg:int=300,flux_point:int=25,fitpoint:int=25,run:bool=True):\n",
    "    \n",
    "    sche_func = two_tone_spec_sched_nco\n",
    "    analysis_result = {}\n",
    "    ro_elements = qubits_meas(quantum_device, qubit_want_to_meas)\n",
    "    \n",
    "    for q in ro_elements:\n",
    "        qubit = quantum_device.get_element(q)\n",
    "        qubit.clock_freqs.readout(chip_info[\"1Q_information\"][q][\"oper\"][\"readout\"][\"freq\"])\n",
    "        \n",
    "        # Set tune away flux bias\n",
    "        for i in range(1, 6):\n",
    "            if f\"q{i}\" == qubit.name:\n",
    "                pass\n",
    "            else:\n",
    "                #TODO: tune away resonator freq: qubit.clock_freqs.readout(freq)\n",
    "                flux_settable_map[f\"q{i}\"](chip_info[\"1Q_information\"][q][\"oper\"][\"tune_away\"][f\"q{i}_flux\"])\n",
    "        for k, v in flux_settable_map.items():\n",
    "            print(\"flux setpoint\", k, v(), v.unit)\n",
    "        \n",
    "        # Check if chip_info is download\n",
    "        if  qubit.measure.pulse_amp() == 0:\n",
    "            raise ValueError(\"Missed some nessesary value!\")\n",
    "        else:\n",
    "            pass\n",
    "        \n",
    "        xyf_center = qubit.clock_freqs.f01()\n",
    "        xyf_samples = linspace(xyf_center-xyf_span_Hz,xyf_center+xyf_span_Hz,fitpoint)\n",
    "        bias_samples = linspace(-flux_span,flux_span,flux_point)\n",
    "\n",
    "        # declare variables\n",
    "        freq = ManualParameter(name=\"freq\", unit=\"Hz\", label=\"Frequency\")\n",
    "        freq.batched = True\n",
    "\n",
    "        # Requisition\n",
    "        qubit_spec_sched_kwargs = dict(\n",
    "            qubit_name=qubit.name,\n",
    "            spec_pulse_frequencies=freq,\n",
    "            spec_pulse_amp=qubit.rxy.amp180(),\n",
    "            spec_pulse_duration=qubit.rxy.duration(),\n",
    "            spec_pulse_port=qubit.ports.microwave(),\n",
    "            spec_pulse_clock=qubit.name + \".01\",\n",
    "        )\n",
    "        \n",
    "        show_args(qubit_spec_sched_kwargs, title=\"qubit_spec_sched_kwargs\")\n",
    "        if run:\n",
    "            gettable = ScheduleGettable(\n",
    "                quantum_device,\n",
    "                schedule_function=sche_func,\n",
    "                schedule_kwargs=qubit_spec_sched_kwargs,\n",
    "                real_imag=False,\n",
    "                batched=True,\n",
    "            )\n",
    "            # send the requisition to MeasurementControl-er\n",
    "            quantum_device.cfg_sched_repetitions(n_avg)\n",
    "            meas_ctrl.gettables(gettable)\n",
    "            meas_ctrl.settables([freq, flux_settable_map[q]]) \n",
    "            meas_ctrl.setpoints_grid((xyf_samples, bias_samples))\n",
    "\n",
    "            # MeasurementControl-er start measurement by the requisition\n",
    "            qfs_ds = meas_ctrl.run(\"flux two-tone\")\n",
    "            qfs_ds\n",
    "            print(qfs_ds)\n",
    "\n",
    "            # analysis\n",
    "            analysis_result[q] = Basic2DAnalysis(tuid=qfs_ds.attrs[\"tuid\"], dataset=qfs_ds).run()\n",
    "            # analysis_result[q] = QubitFluxSpectroscopyAnalysis(tuid=qfs_ds.attrs[\"tuid\"], dataset=qfs_ds).run()\n",
    "            \n",
    "            # Feedback\n",
    "            # qubit.clock_freqs.readout(rfs_analysis.quantities_of_interest[\"freq_0\"])\n",
    "            # flux_settable(rfs_analysis.quantities_of_interest[\"offset_0\"].nominal_value)\n",
    "        else:\n",
    "            qubit_spec_sched_kwargs['frequencies'] = np.array([np.max(xyf_samples)])\n",
    "            pulse_preview(quantum_device,sche_func,qubit_spec_sched_kwargs)\n",
    "            # TODO: add flux channel into figure\n",
    "            \n",
    "    return analysis_result\n",
    "\n",
    "QFD_results = QubitFluxDep(quantum_device,qubit_want_to_meas,run=execute)\n",
    "if execute:\n",
    "    QFD_results_alignPlot(quantum_device,QFD_results,show_mode='amp')\n",
    "\n"
   ]
  },
  {
   "attachments": {},
   "cell_type": "markdown",
   "id": "178450f3-6b03-417f-8579-2ac3c4e839d2",
   "metadata": {},
   "source": [
    "## Power Rabi Oscillation\n"
   ]
  },
  {
   "cell_type": "code",
   "execution_count": 30,
   "id": "fd3dd501",
   "metadata": {},
   "outputs": [],
   "source": [
    "# If you finished previous program, want to start from here, then run this cell to acquire chip information\n",
    "\n",
    "for i in range(1, 6):\n",
    "    qubit = quantum_device.get_element(f\"q{i}\")\n",
    "    qubit.clock_freqs.readout(chip_info[\"1Q_information\"][f\"q{i}\"][\"oper\"][\"readout\"][\"freq\"])\n",
    "    \n",
    "    qubit.measure.pulse_amp(chip_info[\"1Q_information\"][f\"q{i}\"][\"oper\"][\"readout\"][\"amp\"])\n",
    "    qubit.measure.pulse_duration(chip_info[\"1Q_information\"][f\"q{i}\"][\"oper\"][\"readout\"][\"dura_time\"])\n",
    "    qubit.measure.acq_delay(chip_info[\"1Q_information\"][f\"q{i}\"][\"oper\"][\"readout\"][\"acq_delay\"])\n",
    "    qubit.measure.integration_time(chip_info[\"1Q_information\"][f\"q{i}\"][\"oper\"][\"readout\"][\"integ_time\"])\n",
    "    qubit.reset.duration(chip_info[\"1Q_information\"][f\"q{i}\"][\"init\"][\"wait\"][\"time\"])\n",
    "    \n",
    "    qubit.clock_freqs.f01(chip_info[\"1Q_information\"][f\"q{i}\"][\"oper\"][\"x_gate\"][\"freq\"])"
   ]
  },
  {
   "cell_type": "code",
   "execution_count": null,
   "id": "7ff6a4e0",
   "metadata": {},
   "outputs": [
    {
     "name": "stdout",
     "output_type": "stream",
     "text": [
      "updated!\n"
     ]
    }
   ],
   "source": [
    "# Temporarily Tune away bias\n",
    "qubit_num = 1\n",
    "\n",
    "tune_away = {\n",
    "    \"q1\": [0, -0.2, -0.2, -0.22, -0.24],\n",
    "    \"q2\": [-0.2, 0, -0.2, -0.22, -0.24],\n",
    "    \"q3\": [-0.24, -0.2, 0, -0.2, -0.24],\n",
    "    \"q4\": [-0.22, -0.2, -0.2, 0, -0.24],\n",
    "    \"q5\": [-0.22, -0.2, -0.2, -0.22, 0]\n",
    "    }\n",
    "\n",
    "executor = True\n",
    "if executor:\n",
    "    for i in range(qubit_num, qubit_num+1):\n",
    "        qubit = quantum_device.get_element(f\"q{i}\")\n",
    "        \n",
    "        for j in range(1,6):\n",
    "            chip_info[\"1Q_information\"][f\"q{i}\"][\"oper\"][\"tune_away\"][f\"q{j}_flux\"] = tune_away[f\"q{i}\"][j-1]\n",
    "        \n",
    "        \n",
    "    update_chip_file(chip_file, chip_info)\n",
    "    \n",
    "    executor = False\n"
   ]
  },
  {
   "cell_type": "code",
   "execution_count": 31,
   "id": "3e41ed15-2d68-4b80-8ed1-d10f42ff826e",
   "metadata": {},
   "outputs": [
    {
     "name": "stdout",
     "output_type": "stream",
     "text": [
      "flux setpoint q1 0.0889601707458496 V\n",
      "flux setpoint q2 -0.239986181259155 V\n",
      "flux setpoint q3 -0.199969530105591 V\n",
      "flux setpoint q4 -0.219996929168701 V\n",
      "flux setpoint q5 -0.239986181259155 V\n",
      "rabi_sched_kwargs\n",
      "================================\n",
      "pulse_amp      = pulse_amplitude\n",
      "pulse_duration = 2e-08\n",
      "frequency      = 4112325684.4081926\n",
      "qubit          = q1\n",
      "Starting batched measurement...\n",
      "Iterative settable(s) [outer loop(s)]:\n",
      "\t --- (None) --- \n",
      "Batched settable(s):\n",
      "\t pulse_amplitude \n",
      "Batch size limit: 100\n",
      "\n"
     ]
    },
    {
     "name": "stderr",
     "output_type": "stream",
     "text": [
      "WARNING:quantify_scheduler.gettables:Default data_labels may not match the acquisition channel. Element 0 with label Voltage I0 corresponds to acq_channel 1, while they were expected to match. To fix this behavior either specify custom data_labels, or ensure your acquisition channels are sequential starting from 0.\n"
     ]
    },
    {
     "name": "stdout",
     "output_type": "stream",
     "text": [
      "100% completed | elapsed time:     52s | time left:      0s  last batch size:    100  \n",
      "100% completed | elapsed time:     52s | time left:      0s  last batch size:    100  "
     ]
    },
    {
     "data": {
      "image/png": "[encoded data removed]",
      "text/plain": [
       "<Figure size 640x480 with 1 Axes>"
      ]
     },
     "metadata": {},
     "output_type": "display_data"
    }
   ],
   "source": [
    "# Need to fix: \n",
    "# 1. tuneAway bias have to be simplify\n",
    "\n",
    "# ============= manually set Parameters =================\n",
    "qubit_want_to_meas = [1,0,0,0,0]\n",
    "# =======================================================\n",
    "\n",
    "from quantify_scheduler.schedules._visualization.pulse_diagram import plot_acquisition_operations\n",
    "from quantify_scheduler.compilation import _determine_absolute_timing\n",
    "\n",
    "def powR(quantum_device:QuantumDevice,qubit_want_to_meas:list,xyl_span:float=0.7,n_avg:int=5000,fitpoint:int=100,run:bool=True):\n",
    "    \n",
    "    analysis_result = {}\n",
    "    drive_sche_func = rabi_sched\n",
    "    ro_sche_func = heterodyne_spec_sched_nco\n",
    "    ro_elements = qubits_meas(quantum_device, qubit_want_to_meas)\n",
    "    \n",
    "    for q in ro_elements:\n",
    "        qubit = quantum_device.get_element(q)\n",
    "        qubit.clock_freqs.readout(chip_info[\"1Q_information\"][q][\"oper\"][\"readout\"][\"freq\"])\n",
    "        \n",
    "        # Set tune away flux bias\n",
    "        for i in range(1, 6):\n",
    "            if f\"q{i}\" == qubit.name:\n",
    "                flux_settable_map[f\"q{i}\"](chip_info[\"1Q_information\"][q][\"oper\"][\"readout\"][\"flux\"])\n",
    "            else:\n",
    "                #TODO: tune away resonator freq: qubit.clock_freqs.readout(freq)\n",
    "                flux_settable_map[f\"q{i}\"](chip_info[\"1Q_information\"][q][\"oper\"][\"tune_away\"][f\"q{i}_flux\"])\n",
    "        for k, v in flux_settable_map.items():\n",
    "            print(\"flux setpoint\", k, v(), v.unit)\n",
    "            \n",
    "        xyl_samples = np.linspace(-xyl_span, xyl_span, fitpoint)\n",
    "\n",
    "        # declare the variables\n",
    "        ctrl_pulse_amp = ManualParameter(name=\"pulse_amplitude\", unit=\"V\", label=\"amplitude\")\n",
    "        ctrl_pulse_amp.batched = True\n",
    "        ctrl_pulse_amp.batch_size = 100\n",
    "\n",
    "        # Requisition\n",
    "        rabi_sched_kwargs = {\n",
    "            \"pulse_amp\": ctrl_pulse_amp,\n",
    "            \"pulse_duration\": qubit.rxy.duration(),\n",
    "            \"frequency\": qubit.clock_freqs.f01(),\n",
    "            \"qubit\": qubit.name,\n",
    "        }\n",
    "        show_args(rabi_sched_kwargs, title=\"rabi_sched_kwargs\")\n",
    "\n",
    "        # send the requisition to MeasurementControl-er\n",
    "        if run:\n",
    "            gettable = ScheduleGettable(\n",
    "                quantum_device,\n",
    "                schedule_function=drive_sche_func,\n",
    "                schedule_kwargs=rabi_sched_kwargs,\n",
    "                batched=True,\n",
    "            )\n",
    "            quantum_device.cfg_sched_repetitions(n_avg)\n",
    "            meas_ctrl.gettables(gettable)\n",
    "            meas_ctrl.settables(ctrl_pulse_amp)\n",
    "            meas_ctrl.setpoints(xyl_samples)\n",
    "\n",
    "            # MeasurementControl-er start measurement by the requisition\n",
    "            rabi_ds = meas_ctrl.run(\"Rabi\")\n",
    "            rabi_ds\n",
    "\n",
    "            # Analysis\n",
    "            analysis_result[q] = RabiAnalysis(tuid=rabi_ds.attrs[\"tuid\"], dataset=rabi_ds).run()\n",
    "\n",
    "            # Feedback\n",
    "            # qubit.rxy.amp180(rabi_analysis.quantities_of_interest[\"Pi-pulse amplitude\"].nominal_value)\n",
    "        else:\n",
    "            # readout spec\n",
    "            RO_sched_kwargs = dict(\n",
    "                pulse_amp=qubit.measure.pulse_amp(),\n",
    "                pulse_duration=qubit.measure.pulse_duration(),\n",
    "                frequencies=np.array([qubit.clock_freqs.readout()]),\n",
    "                \n",
    "                acquisition_delay=qubit.measure.acq_delay(),\n",
    "                integration_time=qubit.measure.integration_time(),\n",
    "                init_duration=qubit.reset.duration(),\n",
    "                port=qubit.ports.readout(),\n",
    "                clock=qubit.name + \".ro\",\n",
    "            )\n",
    "            rabi_sched_kwargs[\"pulse_amp\"] = np.max(xyl_samples)\n",
    "            device_compiler = SerialCompiler(\"Device compiler\", quantum_device)\n",
    "            ctrl_port_sche = sample_schedule(device_compiler.compile(drive_sche_func(**rabi_sched_kwargs)),port_list=[\"q1:mw\"])\n",
    "            meas_port_sche = sample_schedule(device_compiler.compile(ro_sche_func(**RO_sched_kwargs)),port_list=[\"q1:res\"])\n",
    "            meas_port_sche.update(ctrl_port_sche)\n",
    "            plot_single_subplot_mpl(meas_port_sche)\n",
    "            pulse_preview(quantum_device,drive_sche_func,rabi_sched_kwargs)\n",
    "\n",
    "\n",
    "    return analysis_result\n",
    "\n",
    "\n",
    "execute = True \n",
    "powR_results = powR(quantum_device,qubit_want_to_meas,run=execute)\n",
    "if execute:\n",
    "    for q in powR_results:\n",
    "        powR_results[q].display_figs_mpl()\n",
    "        "
   ]
  },
  {
   "cell_type": "code",
   "execution_count": 32,
   "id": "3bb2bf84",
   "metadata": {},
   "outputs": [
    {
     "name": "stdout",
     "output_type": "stream",
     "text": [
      "q1.rxy\n",
      "===========================\n",
      "amp180   = 0.39680845530160297\n",
      "motzoi   = 0\n",
      "duration = 2e-08\n",
      "\n",
      "q1.clock_freqs\n",
      "=====================\n",
      "f01 = 4112325684.4081926\n",
      "updated!\n"
     ]
    }
   ],
   "source": [
    "executor = True\n",
    "if executor:\n",
    "    for q in powR_results:\n",
    "        qubit = quantum_device.get_element(q)\n",
    "        qubit.rxy.amp180(powR_results[q].quantities_of_interest[\"Pi-pulse amplitude\"].nominal_value)\n",
    "        show_drive_args(qubit)\n",
    "        \n",
    "        chip_info[\"1Q_information\"][q][\"oper\"][\"x_gate\"][\"amp\"] = powR_results[q].quantities_of_interest[\"Pi-pulse amplitude\"].nominal_value\n",
    "        chip_info[\"1Q_information\"][q][\"oper\"][\"x_gate\"][\"dura_time\"] = qubit.rxy.duration()\n",
    "        \n",
    "    update_chip_file(chip_file, chip_info)\n",
    "    \n",
    "    executor = False\n"
   ]
  },
  {
   "cell_type": "markdown",
   "id": "352bf9ae",
   "metadata": {},
   "source": [
    "## Time Rabi"
   ]
  },
  {
   "cell_type": "code",
   "execution_count": 8,
   "id": "6c24437c",
   "metadata": {},
   "outputs": [],
   "source": [
    "# If you finished previous program, want to start from here, then run this cell to acquire chip information\n",
    "\n",
    "for i in range(1, 6):\n",
    "    qubit = quantum_device.get_element(f\"q{i}\")\n",
    "    qubit.clock_freqs.readout(chip_info[\"1Q_information\"][f\"q{i}\"][\"oper\"][\"readout\"][\"freq\"])\n",
    "    \n",
    "    qubit.measure.pulse_amp(chip_info[\"1Q_information\"][f\"q{i}\"][\"oper\"][\"readout\"][\"amp\"])\n",
    "    qubit.measure.pulse_duration(chip_info[\"1Q_information\"][f\"q{i}\"][\"oper\"][\"readout\"][\"dura_time\"])\n",
    "    qubit.measure.acq_delay(chip_info[\"1Q_information\"][f\"q{i}\"][\"oper\"][\"readout\"][\"acq_delay\"])\n",
    "    qubit.measure.integration_time(chip_info[\"1Q_information\"][f\"q{i}\"][\"oper\"][\"readout\"][\"integ_time\"])\n",
    "    qubit.reset.duration(chip_info[\"1Q_information\"][f\"q{i}\"][\"init\"][\"wait\"][\"time\"])\n",
    "    \n",
    "    qubit.clock_freqs.f01(chip_info[\"1Q_information\"][f\"q{i}\"][\"oper\"][\"x_gate\"][\"freq\"])\n",
    "    qubit.rxy.amp180(chip_info[\"1Q_information\"][f\"q{i}\"][\"oper\"][\"x_gate\"][\"amp\"])\n",
    "    qubit.rxy.duration(chip_info[\"1Q_information\"][f\"q{i}\"][\"oper\"][\"x_gate\"][\"dura_time\"])\n",
    "    "
   ]
  },
  {
   "cell_type": "code",
   "execution_count": 33,
   "id": "d189b8de",
   "metadata": {},
   "outputs": [
    {
     "name": "stdout",
     "output_type": "stream",
     "text": [
      "flux setpoint q1 0.0889601707458496 V\n",
      "flux setpoint q2 -0.239986181259155 V\n",
      "flux setpoint q3 -0.199969530105591 V\n",
      "flux setpoint q4 -0.219996929168701 V\n",
      "flux setpoint q5 -0.239986181259155 V\n",
      "rabi_sched_kwargs\n",
      "=================================\n",
      "pulse_amp      = 0.39680845530160297\n",
      "pulse_duration = pulse_duration\n",
      "frequency      = 4112325684.4081926\n",
      "qubit          = q1\n",
      "Starting batched measurement...\n",
      "Iterative settable(s) [outer loop(s)]:\n",
      "\t --- (None) --- \n",
      "Batched settable(s):\n",
      "\t pulse_duration \n",
      "Batch size limit: 50\n",
      "\n"
     ]
    },
    {
     "name": "stderr",
     "output_type": "stream",
     "text": [
      "WARNING:quantify_scheduler.gettables:Default data_labels may not match the acquisition channel. Element 0 with label Voltage I0 corresponds to acq_channel 1, while they were expected to match. To fix this behavior either specify custom data_labels, or ensure your acquisition channels are sequential starting from 0.\n"
     ]
    },
    {
     "name": "stdout",
     "output_type": "stream",
     "text": [
      "100% completed | elapsed time:     27s | time left:      0s  last batch size:     50  \n",
      "100% completed | elapsed time:     27s | time left:      0s  last batch size:     50  "
     ]
    },
    {
     "data": {
      "image/png": "[encoded data removed]",
      "text/plain": [
       "<Figure size 640x480 with 1 Axes>"
      ]
     },
     "metadata": {},
     "output_type": "display_data"
    }
   ],
   "source": [
    "# Need to fix: \n",
    "# 1. tuneAway bias have to be simplify\n",
    "\n",
    "# ============= manually set Parameters =================\n",
    "qubit_want_to_meas = [1,0,0,0,0]\n",
    "# =======================================================\n",
    "\n",
    "def timR(quantum_device:QuantumDevice,qubit_want_to_meas:list,xyw_span:float=200e-9,n_avg:int=5000,time_resolutions:float=4e-9):\n",
    "    \n",
    "    xyw_samples = arange(time_resolutions, xyw_span+time_resolutions, time_resolutions)\n",
    "    analysis_result = {}\n",
    "    ro_elements = qubits_meas(quantum_device, qubit_want_to_meas)\n",
    "    \n",
    "    for q in ro_elements:\n",
    "        qubit = quantum_device.get_element(q)\n",
    "        qubit.clock_freqs.readout(chip_info[\"1Q_information\"][q][\"oper\"][\"readout\"][\"freq\"])\n",
    "        \n",
    "        # Set tune away flux bias\n",
    "        for i in range(1, 6):\n",
    "            if f\"q{i}\" == qubit.name:\n",
    "                flux_settable_map[f\"q{i}\"](chip_info[\"1Q_information\"][q][\"oper\"][\"readout\"][\"flux\"])\n",
    "            else:\n",
    "                #TODO: tune away resonator freq: qubit.clock_freqs.readout(freq)\n",
    "                flux_settable_map[f\"q{i}\"](chip_info[\"1Q_information\"][q][\"oper\"][\"tune_away\"][f\"q{i}_flux\"])\n",
    "        for k, v in flux_settable_map.items():\n",
    "            print(\"flux setpoint\", k, v(), v.unit)\n",
    "            \n",
    "        # declare the variables\n",
    "        ctrl_pulse_dura = ManualParameter(name=\"pulse_duration\", unit=\"s\", label=\"Time\")\n",
    "        ctrl_pulse_dura.batched = True\n",
    "\n",
    "        # Requisition\n",
    "        rabi_sched_kwargs = {\n",
    "            \"pulse_amp\": qubit.rxy.amp180(),\n",
    "            \"pulse_duration\": ctrl_pulse_dura,\n",
    "            \"frequency\": qubit.clock_freqs.f01(),\n",
    "            \"qubit\": qubit.name,\n",
    "        }\n",
    "        gettable = ScheduleGettable(\n",
    "            quantum_device,\n",
    "            schedule_function=rabi_sched,\n",
    "            schedule_kwargs=rabi_sched_kwargs,\n",
    "            batched=True,\n",
    "        )\n",
    "        show_args(rabi_sched_kwargs, title=\"rabi_sched_kwargs\")\n",
    "\n",
    "        # send the requisition to MeasurementControl-er\n",
    "        quantum_device.cfg_sched_repetitions(n_avg)\n",
    "        meas_ctrl.gettables(gettable)\n",
    "        meas_ctrl.settables(ctrl_pulse_dura)\n",
    "        meas_ctrl.setpoints(xyw_samples)\n",
    "\n",
    "        # MeasurementControl-er start measurement by the requisition\n",
    "        rabi_ds = meas_ctrl.run(\"Rabi\")\n",
    "        rabi_ds\n",
    "\n",
    "        # Analysis\n",
    "        analysis_result[q] = RabiAnalysis(tuid=rabi_ds.attrs[\"tuid\"], dataset=rabi_ds).run()\n",
    "\n",
    "        # Feedback\n",
    "        \n",
    "    return analysis_result  \n",
    "\n",
    "\n",
    "timR_results = timR(quantum_device,qubit_want_to_meas)       \n",
    "for q in timR_results:\n",
    "    timR_results[q].display_figs_mpl()\n",
    "       "
   ]
  },
  {
   "cell_type": "markdown",
   "id": "614d5222",
   "metadata": {},
   "source": [
    "## Ramsey"
   ]
  },
  {
   "cell_type": "code",
   "execution_count": 27,
   "id": "64c55979",
   "metadata": {},
   "outputs": [
    {
     "name": "stdout",
     "output_type": "stream",
     "text": [
      "4106056596.493175\n",
      "0\n",
      "0\n",
      "0\n",
      "0\n"
     ]
    }
   ],
   "source": [
    "# If you finished previous program, want to start from here, then run this cell to acquire chip information\n",
    "\n",
    "for i in range(1, 6):\n",
    "    qubit = quantum_device.get_element(f\"q{i}\")\n",
    "    qubit.clock_freqs.readout(chip_info[\"1Q_information\"][f\"q{i}\"][\"oper\"][\"readout\"][\"freq\"])\n",
    "    \n",
    "    qubit.measure.pulse_amp(chip_info[\"1Q_information\"][f\"q{i}\"][\"oper\"][\"readout\"][\"amp\"])\n",
    "    qubit.measure.pulse_duration(chip_info[\"1Q_information\"][f\"q{i}\"][\"oper\"][\"readout\"][\"dura_time\"])\n",
    "    qubit.measure.acq_delay(chip_info[\"1Q_information\"][f\"q{i}\"][\"oper\"][\"readout\"][\"acq_delay\"])\n",
    "    qubit.measure.integration_time(chip_info[\"1Q_information\"][f\"q{i}\"][\"oper\"][\"readout\"][\"integ_time\"])\n",
    "    qubit.reset.duration(chip_info[\"1Q_information\"][f\"q{i}\"][\"init\"][\"wait\"][\"time\"])\n",
    "    \n",
    "    qubit.clock_freqs.f01(chip_info[\"1Q_information\"][f\"q{i}\"][\"oper\"][\"x_gate\"][\"freq\"])\n",
    "    qubit.rxy.amp180(chip_info[\"1Q_information\"][f\"q{i}\"][\"oper\"][\"x_gate\"][\"amp\"])\n",
    "    qubit.rxy.duration(chip_info[\"1Q_information\"][f\"q{i}\"][\"oper\"][\"x_gate\"][\"dura_time\"])"
   ]
  },
  {
   "cell_type": "code",
   "execution_count": 35,
   "id": "9f58535b",
   "metadata": {},
   "outputs": [
    {
     "name": "stdout",
     "output_type": "stream",
     "text": [
      "flux setpoint q1 0.0889601707458496 V\n",
      "flux setpoint q2 -0.239986181259155 V\n",
      "flux setpoint q3 -0.199969530105591 V\n",
      "flux setpoint q4 -0.219996929168701 V\n",
      "flux setpoint q5 -0.239986181259155 V\n",
      "ramsey_sched_kwargs\n",
      "=============================\n",
      "qubit               = q1\n",
      "times               = tau\n",
      "artificial_detuning = -3000000.0\n",
      "Starting batched measurement...\n",
      "Iterative settable(s) [outer loop(s)]:\n",
      "\t --- (None) --- \n",
      "Batched settable(s):\n",
      "\t tau \n",
      "Batch size limit: 100\n",
      "\n"
     ]
    },
    {
     "name": "stderr",
     "output_type": "stream",
     "text": [
      "WARNING:quantify_scheduler.gettables:Default data_labels may not match the acquisition channel. Element 0 with label Magnitude0 corresponds to acq_channel 1, while they were expected to match. To fix this behavior either specify custom data_labels, or ensure your acquisition channels are sequential starting from 0.\n"
     ]
    },
    {
     "name": "stdout",
     "output_type": "stream",
     "text": [
      " 99% completed | elapsed time:     45s | time left:      0s  last batch size:    100  "
     ]
    },
    {
     "name": "stderr",
     "output_type": "stream",
     "text": [
      "WARNING:quantify_scheduler.gettables:Default data_labels may not match the acquisition channel. Element 0 with label Magnitude0 corresponds to acq_channel 1, while they were expected to match. To fix this behavior either specify custom data_labels, or ensure your acquisition channels are sequential starting from 0.\n"
     ]
    },
    {
     "name": "stdout",
     "output_type": "stream",
     "text": [
      "100% completed | elapsed time:     46s | time left:      0s  last batch size:      1  \n",
      "100% completed | elapsed time:     46s | time left:      0s  last batch size:      1  "
     ]
    },
    {
     "data": {
      "image/png": "[encoded data removed]",
      "text/plain": [
       "<Figure size 640x480 with 1 Axes>"
      ]
     },
     "metadata": {},
     "output_type": "display_data"
    }
   ],
   "source": [
    "# Need to fix: \n",
    "# 1. Plotting different result of detuning in a single measurement\n",
    "# 2. tuneAway bias have to be simplify\n",
    "\n",
    "# ============= manually set Parameters =================\n",
    "qubit_want_to_meas = [1,0,0,0,0]\n",
    "detune = [-3e6]\n",
    "max_evoTime=16e-6\n",
    "# =======================================================\n",
    "\n",
    "def ramsey(quantum_device:QuantumDevice,qubit_want_to_meas:list,max_evoTime:float=15e-6,n_avg:int=2000,time_resolutions:float=80e-9,virtual_detune:list=[0.0], histo_num:int=1):\n",
    "    \n",
    "    revo_samples = arange(40e-9, max_evoTime+time_resolutions, time_resolutions)\n",
    "    ro_elements = qubits_meas(quantum_device, qubit_want_to_meas)\n",
    "    \n",
    "    if len(virtual_detune) != len(ro_elements):\n",
    "        df = []\n",
    "        for i in ro_elements:\n",
    "            df.append(virtual_detune[0])\n",
    "        virtual_detune = df\n",
    "    if len(ro_elements) > 1:\n",
    "        histo_num = 1\n",
    "    analysis_result = {}\n",
    "    T2_us = {}\n",
    "    \n",
    "    for idx, q in enumerate(ro_elements):\n",
    "        qubit = quantum_device.get_element(q)\n",
    "        qubit.clock_freqs.readout(chip_info[\"1Q_information\"][q][\"oper\"][\"readout\"][\"freq\"])\n",
    "        \n",
    "        # Set tune away flux bias\n",
    "        for i in range(1, 6):\n",
    "            if f\"q{i}\" == qubit.name:\n",
    "                flux_settable_map[f\"q{i}\"](chip_info[\"1Q_information\"][q][\"oper\"][\"readout\"][\"flux\"])\n",
    "            else:\n",
    "                #TODO: tune away resonator freq: qubit.clock_freqs.readout(freq)\n",
    "                flux_settable_map[f\"q{i}\"](chip_info[\"1Q_information\"][q][\"oper\"][\"tune_away\"][f\"q{i}_flux\"])\n",
    "        for k, v in flux_settable_map.items():\n",
    "            print(\"flux setpoint\", k, v(), v.unit)\n",
    "\n",
    "        # declare variables\n",
    "        tau = ManualParameter(name=\"tau\", unit=\"s\", label=\"Time\")\n",
    "        tau.batched = True\n",
    "        tau.batch_size = 100\n",
    "        # Requisition\n",
    "        ramsey_sched_kwargs = {\n",
    "            \"qubit\": qubit.name,\n",
    "            \"times\": tau,\n",
    "            \"artificial_detuning\": virtual_detune[idx],\n",
    "        }\n",
    "        gettable = ScheduleGettable(\n",
    "            quantum_device,\n",
    "            schedule_function=ramsey_sched,\n",
    "            schedule_kwargs=ramsey_sched_kwargs,\n",
    "            real_imag=False,\n",
    "            batched=True,\n",
    "        )\n",
    "        show_args(ramsey_sched_kwargs, title=\"ramsey_sched_kwargs\")\n",
    "\n",
    "        # send the requisition to MeasurementControl-er\n",
    "        quantum_device.cfg_sched_repetitions(n_avg)\n",
    "        meas_ctrl.gettables(gettable)\n",
    "        meas_ctrl.settables(tau)\n",
    "        meas_ctrl.setpoints(revo_samples)\n",
    "\n",
    "        # MeasurementControl-er start measurement by the requisition\n",
    "        T2_us[q] = []\n",
    "        for count in range(histo_num):\n",
    "            ramsey_ds = meas_ctrl.run(\"ramsey\")\n",
    "            ramsey_ds\n",
    "\n",
    "            # Analysis\n",
    "            analysis_result[q] = RamseyAnalysis(tuid=ramsey_ds.attrs[\"tuid\"], dataset=ramsey_ds).run(artificial_detuning=ramsey_sched_kwargs[\"artificial_detuning\"])\n",
    "            T2_us[q].append(analysis_result[q].quantities_of_interest['T2*'].nominal_value*1e6)\n",
    "            # Feedback\n",
    "            # qubit.clock_freqs.f01(qubit.clock_freqs.f01()+ramsey_analysis.quantities_of_interest['detuning'].nominal_value)\n",
    "    return analysis_result, T2_us\n",
    "\n",
    "\n",
    "T2_results, T2_rec = ramsey(quantum_device,qubit_want_to_meas,time_resolutions=0.16e-6,max_evoTime=max_evoTime,n_avg=4000,virtual_detune=detune,histo_num=1)\n",
    "\n",
    "for q in T2_results:\n",
    "    T2_results[q].display_figs_mpl()\n",
    "    \n",
    "# Problem need to fixed: \n",
    "# After restart the kernal, if I run Ramsey first, then the first result will be noncense.\n",
    "# But if I measure again, then the result become normal, why???"
   ]
  },
  {
   "cell_type": "code",
   "execution_count": 36,
   "id": "ce7f7818",
   "metadata": {},
   "outputs": [
    {
     "name": "stdout",
     "output_type": "stream",
     "text": [
      "q1.rxy\n",
      "===========================\n",
      "amp180   = 0.39680845530160297\n",
      "motzoi   = 0\n",
      "duration = 2e-08\n",
      "\n",
      "q1.clock_freqs\n",
      "=====================\n",
      "f01 = 4109325684.4081926\n",
      "updated!\n"
     ]
    }
   ],
   "source": [
    "# If you agree with the result, then run this cell\n",
    "\n",
    "executor = True\n",
    "if executor:\n",
    "    for q in T2_results:\n",
    "        qubit = quantum_device.get_element(q)\n",
    "        qubit.clock_freqs.f01(qubit.clock_freqs.f01()+detune[0])\n",
    "        \n",
    "        chip_info[\"1Q_information\"][q][\"char\"][\"Max\"][\"qubit\"][\"T2\"] = f\"T2 = {round(np.mean(T2_rec['q1']),2)}+-{round(np.std(T2_rec['q1']),4)} us\"\n",
    "        chip_info[\"1Q_information\"][q][\"char\"][\"Max\"][\"qubit\"][\"freq\"] = qubit.clock_freqs.f01()\n",
    "        \n",
    "        chip_info[\"1Q_information\"][q][\"oper\"][\"x_gate\"][\"freq\"] = qubit.clock_freqs.f01()\n",
    "        \n",
    "        show_drive_args(qubit)\n",
    "    \n",
    "    update_chip_file(chip_file, chip_info)\n",
    "    \n",
    "    executor = False\n",
    "    "
   ]
  },
  {
   "attachments": {},
   "cell_type": "markdown",
   "id": "232bf6fa",
   "metadata": {},
   "source": [
    "### ZZ interaction\n",
    "\n",
    "> underdevelpoing"
   ]
  },
  {
   "cell_type": "code",
   "execution_count": 85,
   "id": "6903d576",
   "metadata": {},
   "outputs": [
    {
     "name": "stdout",
     "output_type": "stream",
     "text": [
      "ZZinteraction_sched_kwargs\n",
      "============================\n",
      "qubit               = q1\n",
      "times               = tau\n",
      "artificial_detuning = 1000000.0\n",
      "None\n"
     ]
    },
    {
     "ename": "TypeError",
     "evalue": "'int' object is not iterable",
     "output_type": "error",
     "traceback": [
      "\u001b[0;31m---------------------------------------------------------------------------\u001b[0m",
      "\u001b[0;31mTypeError\u001b[0m                                 Traceback (most recent call last)",
      "Cell \u001b[0;32mIn[85], line 60\u001b[0m\n\u001b[1;32m     56\u001b[0m             \u001b[38;5;28;01mreturn\u001b[39;00m \u001b[38;5;241m0\u001b[39m, \u001b[38;5;241m0\u001b[39m\n\u001b[1;32m     58\u001b[0m T2_results, T2_rec \u001b[38;5;241m=\u001b[39m zzIntera(quantum_device,[\u001b[38;5;124m'\u001b[39m\u001b[38;5;124mq1\u001b[39m\u001b[38;5;124m'\u001b[39m],\u001b[38;5;124m'\u001b[39m\u001b[38;5;124mq2\u001b[39m\u001b[38;5;124m'\u001b[39m,time_resolutions\u001b[38;5;241m=\u001b[39m\u001b[38;5;241m0.04e-6\u001b[39m,max_evoTime\u001b[38;5;241m=\u001b[39m\u001b[38;5;241m4e-6\u001b[39m,n_avg\u001b[38;5;241m=\u001b[39m\u001b[38;5;241m8000\u001b[39m,virtual_detune\u001b[38;5;241m=\u001b[39m[\u001b[38;5;241m1e6\u001b[39m],run\u001b[38;5;241m=\u001b[39m\u001b[38;5;28;01mFalse\u001b[39;00m)\n\u001b[0;32m---> 60\u001b[0m \u001b[38;5;28;01mfor\u001b[39;00m q \u001b[38;5;129;01min\u001b[39;00m T2_results:\n\u001b[1;32m     61\u001b[0m     T2_results[q]\u001b[38;5;241m.\u001b[39mdisplay_figs_mpl()\n",
      "\u001b[0;31mTypeError\u001b[0m: 'int' object is not iterable"
     ]
    }
   ],
   "source": [
    "# developing\n",
    "ro_element = list(flux_settable_map.keys())\n",
    "def zzIntera(quantum_device:QuantumDevice,ro_elements:list,ctrl_qubit:str,max_evoTime:float=15e-6,n_avg:int=2000,time_resolutions:float=80e-9,virtual_detune:list=[0.0], histo_num:int=1, run:bool=True):\n",
    "    revo_samples = arange(40e-9, max_evoTime+time_resolutions, time_resolutions)\n",
    "    if len(virtual_detune) != len(ro_elements):\n",
    "        df = []\n",
    "        for i in ro_elements:\n",
    "            df.append(virtual_detune[0])\n",
    "        virtual_detune = df\n",
    "    if len(ro_elements) > 1:\n",
    "        histo_num = 1\n",
    "    analysis_result = {}\n",
    "    T2_us = {}\n",
    "    for idx, q in enumerate(ro_elements):\n",
    "        qubit = quantum_device.get_element(q)\n",
    "        ctrl_q = quantum_device.get_element(ctrl_qubit)\n",
    "        # declare variables\n",
    "        tau = ManualParameter(name=\"tau\", unit=\"s\", label=\"Time\")\n",
    "        tau.batched = True\n",
    "        tau.batch_size = 100\n",
    "        # Requisition\n",
    "        ramsey_sched_kwargs = {\n",
    "            \"qubit\": qubit.name,\n",
    "            \"times\": tau,\n",
    "            \"artificial_detuning\": virtual_detune[idx],\n",
    "        }\n",
    "        gettable = ScheduleGettable(\n",
    "            quantum_device,\n",
    "            schedule_function=ramsey_sched,\n",
    "            schedule_kwargs=ramsey_sched_kwargs,\n",
    "            real_imag=False,\n",
    "            batched=True,\n",
    "        )\n",
    "        show_args(ramsey_sched_kwargs, title=\"ZZinteraction_sched_kwargs\")\n",
    "\n",
    "        # send the requisition to MeasurementControl-er\n",
    "        quantum_device.cfg_sched_repetitions(n_avg)\n",
    "        meas_ctrl.gettables(gettable)\n",
    "        meas_ctrl.settables(tau)\n",
    "        meas_ctrl.setpoints(revo_samples)\n",
    "\n",
    "        # MeasurementControl-er start measurement by the requisition\n",
    "        if run:\n",
    "            T2_us[q] = []\n",
    "            for count in range(histo_num):\n",
    "                ramsey_ds = meas_ctrl.run(\"ZZinteraction\")\n",
    "                ramsey_ds\n",
    "\n",
    "                # Analysis\n",
    "                analysis_result[q] = RamseyAnalysis(tuid=ramsey_ds.attrs[\"tuid\"], dataset=ramsey_ds).run(artificial_detuning=ramsey_sched_kwargs[\"artificial_detuning\"])\n",
    "                T2_us[q].append(analysis_result[q].quantities_of_interest['T2*'].nominal_value*1e6)\n",
    "                # Feedback\n",
    "                # qubit.clock_freqs.f01(qubit.clock_freqs.f01()+ramsey_analysis.quantities_of_interest['detuning'].nominal_value)\n",
    "            return analysis_result, T2_us\n",
    "        else:\n",
    "            print(gettable.compiled_schedule)\n",
    "            return 0, 0\n",
    "\n",
    "T2_results, T2_rec = zzIntera(quantum_device,['q1'],'q2',time_resolutions=0.04e-6,max_evoTime=4e-6,n_avg=8000,virtual_detune=[1e6],run=False)\n",
    "\n",
    "for q in T2_results:\n",
    "    T2_results[q].display_figs_mpl()\n"
   ]
  },
  {
   "cell_type": "code",
   "execution_count": 73,
   "id": "dc02a3d2",
   "metadata": {},
   "outputs": [
    {
     "name": "stdout",
     "output_type": "stream",
     "text": [
      "q2.rxy\n",
      "=========================\n",
      "amp180   = 0.219452081543955\n",
      "motzoi   = 0\n",
      "duration = 2e-08\n",
      "\n",
      "q2.clock_freqs\n",
      "=====================\n",
      "f01 = 4219135045.6393905\n"
     ]
    }
   ],
   "source": [
    "\n",
    "executor = True\n",
    "if executor:\n",
    "    for q in T2_results:\n",
    "        qubit = quantum_device.get_element(q)\n",
    "        qubit.clock_freqs.f01(qubit.clock_freqs.f01()+0.328e6)\n",
    "    executor = False\n",
    "    show_drive_args(qubit)"
   ]
  },
  {
   "cell_type": "markdown",
   "id": "ece23360",
   "metadata": {},
   "source": [
    "## T1"
   ]
  },
  {
   "cell_type": "code",
   "execution_count": null,
   "id": "49a7a621",
   "metadata": {},
   "outputs": [],
   "source": [
    "# If you finished previous program, want to start from here, then run this cell to acquire chip information\n",
    "\n",
    "for i in range(1, 6):\n",
    "    qubit = quantum_device.get_element(f\"q{i}\")\n",
    "    qubit.clock_freqs.readout(chip_info[\"1Q_information\"][f\"q{i}\"][\"oper\"][\"readout\"][\"freq\"])\n",
    "    \n",
    "    qubit.measure.pulse_amp(chip_info[\"1Q_information\"][f\"q{i}\"][\"oper\"][\"readout\"][\"amp\"])\n",
    "    qubit.measure.pulse_duration(chip_info[\"1Q_information\"][f\"q{i}\"][\"oper\"][\"readout\"][\"dura_time\"])\n",
    "    qubit.measure.acq_delay(chip_info[\"1Q_information\"][f\"q{i}\"][\"oper\"][\"readout\"][\"acq_delay\"])\n",
    "    qubit.measure.integration_time(chip_info[\"1Q_information\"][f\"q{i}\"][\"oper\"][\"readout\"][\"integ_time\"])\n",
    "    qubit.reset.duration(chip_info[\"1Q_information\"][f\"q{i}\"][\"init\"][\"wait\"][\"time\"])\n",
    "    \n",
    "    qubit.clock_freqs.f01(chip_info[\"1Q_information\"][f\"q{i}\"][\"oper\"][\"x_gate\"][\"freq\"])\n",
    "    qubit.rxy.amp180(chip_info[\"1Q_information\"][f\"q{i}\"][\"oper\"][\"x_gate\"][\"amp\"])\n",
    "    qubit.rxy.duration(chip_info[\"1Q_information\"][f\"q{i}\"][\"oper\"][\"x_gate\"][\"dura_time\"])"
   ]
  },
  {
   "cell_type": "code",
   "execution_count": 37,
   "id": "d0b4363e",
   "metadata": {},
   "outputs": [
    {
     "name": "stdout",
     "output_type": "stream",
     "text": [
      "flux setpoint q1 0.0889601707458496 V\n",
      "flux setpoint q2 -0.239986181259155 V\n",
      "flux setpoint q3 -0.199969530105591 V\n",
      "flux setpoint q4 -0.219996929168701 V\n",
      "flux setpoint q5 -0.239986181259155 V\n",
      "t1_sched_kwargs\n",
      "==============\n",
      "qubit = q1\n",
      "times = tau_delay\n",
      "Starting batched measurement...\n",
      "Iterative settable(s) [outer loop(s)]:\n",
      "\t --- (None) --- \n",
      "Batched settable(s):\n",
      "\t tau_delay \n",
      "Batch size limit: 64\n",
      "\n"
     ]
    },
    {
     "name": "stderr",
     "output_type": "stream",
     "text": [
      "WARNING:quantify_scheduler.gettables:Default data_labels may not match the acquisition channel. Element 0 with label Magnitude0 corresponds to acq_channel 1, while they were expected to match. To fix this behavior either specify custom data_labels, or ensure your acquisition channels are sequential starting from 0.\n"
     ]
    },
    {
     "name": "stdout",
     "output_type": "stream",
     "text": [
      "100% completed | elapsed time:     33s | time left:      0s  last batch size:     64  \n",
      "100% completed | elapsed time:     33s | time left:      0s  last batch size:     64  "
     ]
    },
    {
     "data": {
      "image/png": "[encoded data removed]",
      "text/plain": [
       "<Figure size 640x480 with 1 Axes>"
      ]
     },
     "metadata": {},
     "output_type": "display_data"
    }
   ],
   "source": [
    "# Need to fix: \n",
    "# 1. Plotting different result of detuning in a single measurement\n",
    "# 2. tuneAway bias have to be simplify\n",
    "\n",
    "# ============= manually set Parameters =================\n",
    "qubit_want_to_meas = [1,0,0,0,0]\n",
    "max_evoTime=16e-6\n",
    "# =======================================================\n",
    "\n",
    "def T1(quantum_device:QuantumDevice,qubit_want_to_meas:list,max_relaxTime:float=50e-6,n_avg:int=5000,time_resolutions:float=0.4e-6, histo_num:int=1):\n",
    "    relax_samples = arange(40e-9, max_relaxTime+time_resolutions, time_resolutions)\n",
    "    if len(ro_elements) > 1:\n",
    "        histo_num = 1\n",
    "    \n",
    "    ro_elements = qubits_meas(quantum_device, qubit_want_to_meas)\n",
    "    analysis_result = {}\n",
    "    T1_us = {}\n",
    "    \n",
    "    \n",
    "    for q in ro_elements:\n",
    "        qubit = quantum_device.get_element(q)\n",
    "        qubit.clock_freqs.readout(chip_info[\"1Q_information\"][q][\"oper\"][\"readout\"][\"freq\"])\n",
    "        \n",
    "        # Set tune away flux bias\n",
    "        for i in range(1, 6):\n",
    "            if f\"q{i}\" == qubit.name:\n",
    "                flux_settable_map[f\"q{i}\"](chip_info[\"1Q_information\"][q][\"oper\"][\"readout\"][\"flux\"])\n",
    "            else:\n",
    "                #TODO: tune away resonator freq: qubit.clock_freqs.readout(freq)\n",
    "                flux_settable_map[f\"q{i}\"](chip_info[\"1Q_information\"][q][\"oper\"][\"tune_away\"][f\"q{i}_flux\"])\n",
    "        for k, v in flux_settable_map.items():\n",
    "            print(\"flux setpoint\", k, v(), v.unit)\n",
    "        \n",
    "        # declare variables\n",
    "        tau = ManualParameter(name=\"tau_delay\", unit=\"s\", label=\"Delay\")\n",
    "        tau.batched = True\n",
    "\n",
    "        # Requisition\n",
    "        t1_sched_kwargs = {\n",
    "            \"qubit\": qubit.name, \n",
    "            \"times\": tau\n",
    "        }\n",
    "        gettable = ScheduleGettable(\n",
    "            quantum_device,\n",
    "            schedule_function=t1_sched,\n",
    "            schedule_kwargs=t1_sched_kwargs,\n",
    "            real_imag=False,\n",
    "            batched=True,\n",
    "        )\n",
    "        show_args(t1_sched_kwargs, title=\"t1_sched_kwargs\")\n",
    "\n",
    "        # send the requisition to MeasurementControl-er\n",
    "        quantum_device.cfg_sched_repetitions(n_avg)\n",
    "        meas_ctrl.gettables(gettable)\n",
    "        meas_ctrl.settables(tau)\n",
    "        meas_ctrl.setpoints(relax_samples)\n",
    "\n",
    "        # MeasurementControl-er start measurement by the requisition\n",
    "        T1_us[q] = []\n",
    "        for i in range(histo_num):\n",
    "            T1_ds = meas_ctrl.run(\"T1 experiment\")\n",
    "            # Analysis\n",
    "            analysis_result[q] = T1Analysis(tuid=T1_ds.attrs[\"tuid\"], dataset=T1_ds).run()\n",
    "            T1_us[q].append(analysis_result[q].quantities_of_interest['T1'].nominal_value*1e6)\n",
    "        # Feedback\n",
    "        # T1 = t1_analysis.quantities_of_interest['T1'].nominal_value\n",
    "    return analysis_result, T1_us\n",
    "\n",
    "T1_results, T1_rec = T1(quantum_device,qubit_want_to_meas,n_avg=4000, time_resolutions=0.8e-6,histo_num=1)\n",
    "\n",
    "for q in T1_results:\n",
    "    T1_results[q].display_figs_mpl()"
   ]
  },
  {
   "cell_type": "code",
   "execution_count": null,
   "id": "0eec1f50",
   "metadata": {},
   "outputs": [
    {
     "data": {
      "image/png": "[encoded data removed]",
      "text/plain": [
       "<Figure size 640x480 with 1 Axes>"
      ]
     },
     "metadata": {},
     "output_type": "display_data"
    }
   ],
   "source": [
    "def histoPlot( data:np.ndarray, save:bool=False):\n",
    "\n",
    "    fig, ax = plt.subplots()\n",
    "\n",
    "    bin_width = 0.5\n",
    "    start_value = np.mean(data)*0.5\n",
    "    end_value = np.mean(data)*1.5\n",
    "    custom_bins = [start_value + i * bin_width for i in range(int((end_value - start_value) / bin_width) + 1)]\n",
    "    hist_values, bin_edges = np.histogram(data, bins=custom_bins, density=True)\n",
    "    bin_centers = 0.5 * (bin_edges[:-1] + bin_edges[1:])\n",
    "    mean = round(np.mean(data),2)\n",
    "    std = round(np.std(data),2)\n",
    "    # params, covariance = curve_fit(gaussian, bin_centers, hist_values)\n",
    "    # mu, sigma = params\n",
    "    ax.hist(data, 20, density=False, alpha=0.7, color='blue', label='Histogram')\n",
    "    xmin, xmax = ax.get_xlim()\n",
    "    x = np.linspace(xmin, xmax, 100)\n",
    "    # p = gaussian(x, mu, sigma)\n",
    "    # ax.plot(x, p, 'k', linewidth=2, label=f'Fit result: $\\mu$={mu:.2f}, $\\sigma$={sigma:.2f}')\n",
    "    # ax.legend()\n",
    "    fig.suptitle(f'T1 Distribution, T1={mean}+/-{std}us')\n",
    "    if save:\n",
    "        plt.savefig(\"./Data/T1_histo/T1Histo.png\")\n",
    "    plt.show()\n",
    "\n",
    "histoPlot(np.array(T1_rec['q1']),save=True)"
   ]
  },
  {
   "cell_type": "code",
   "execution_count": 3,
   "id": "13c719c6",
   "metadata": {},
   "outputs": [],
   "source": [
    "\n",
    "shut_down(cluster,flux_settable_map)"
   ]
  },
  {
   "cell_type": "code",
   "execution_count": null,
   "id": "21c697fe",
   "metadata": {},
   "outputs": [],
   "source": []
  }
 ],
 "metadata": {
  "kernelspec": {
   "display_name": "quantify-env",
   "language": "python",
   "name": "python3"
  },
  "language_info": {
   "codemirror_mode": {
    "name": "ipython",
    "version": 3
   },
   "file_extension": ".py",
   "mimetype": "text/x-python",
   "name": "python",
   "nbconvert_exporter": "python",
   "pygments_lexer": "ipython3",
   "version": "3.9.18"
  },
  "vscode": {
   "interpreter": {
    "hash": "89cd5e46bc7bdf6949db6094f39a3e2c5522d880feeea65ff97926f76b70bcb9"
   }
  }
 },
 "nbformat": 4,
 "nbformat_minor": 5
}
